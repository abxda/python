{
  "cells": [
    {
      "cell_type": "markdown",
      "metadata": {
        "id": "view-in-github",
        "colab_type": "text"
      },
      "source": [
        "<a href=\"https://colab.research.google.com/github/abxda/python/blob/main/Spark_Kafka.ipynb\" target=\"_parent\"><img src=\"https://colab.research.google.com/assets/colab-badge.svg\" alt=\"Open In Colab\"/></a>"
      ]
    },
    {
      "cell_type": "code",
      "execution_count": null,
      "metadata": {
        "id": "wvcYS5b-uhfo"
      },
      "outputs": [],
      "source": [
        "!pip install colab-xterm #https://pypi.org/project/colab-xterm/\n",
        "%load_ext colabxterm"
      ]
    },
    {
      "cell_type": "code",
      "execution_count": null,
      "metadata": {
        "id": "4maU3c-6vnty"
      },
      "outputs": [],
      "source": [
        "!apt install openjdk-8-jdk-headless -qq > /dev/null"
      ]
    },
    {
      "cell_type": "code",
      "execution_count": null,
      "metadata": {
        "id": "5KD-fG-Av32d"
      },
      "outputs": [],
      "source": [
        "#Basado en https://colab.research.google.com/drive/11RzVuPw01cOGj9Z4B_VV681ZyXKCSkQN?usp=sharing#scrollTo=A_XknnI91JCW\n",
        "\n",
        "# required to change logging level, otherwise we could have got away with pip3 install\n",
        "#\n",
        "!wget -q https://dlcdn.apache.org/spark/spark-3.4.3/spark-3.4.3-bin-hadoop3.tgz\n",
        "!tar xf spark-3.4.3-bin-hadoop3.tgz\n"
      ]
    },
    {
      "cell_type": "code",
      "execution_count": null,
      "metadata": {
        "id": "RQiNwq9awc2k"
      },
      "outputs": [],
      "source": [
        "import os\n",
        "os.environ[\"JAVA_HOME\"] = \"/usr/lib/jvm/java-8-openjdk-amd64\"\n",
        "os.environ[\"SPARK_HOME\"] = \"/content/spark-3.4.3-bin-hadoop3\"\n",
        "\n",
        "!pip3 install -q pyspark\n",
        "\n",
        "!cp $SPARK_HOME/conf/log4j2.properties.template $SPARK_HOME/conf/log4j2.properties                  # copy the template\n",
        "!sed -i 's/rootLogger.level = info/rootLogger.level = warn/g' $SPARK_HOME/conf/log4j2.properties    # make the change\n",
        "!diff $SPARK_HOME/conf/log4j2.properties.template $SPARK_HOME/conf/log4j2.properties"
      ]
    },
    {
      "cell_type": "code",
      "execution_count": null,
      "metadata": {
        "id": "gwlVDuzjykF-"
      },
      "outputs": [],
      "source": [
        "!wget -q https://downloads.apache.org/kafka/3.6.2/kafka_2.12-3.6.2.tgz\n",
        "!tar xf kafka_2.12-3.6.2.tgz"
      ]
    },
    {
      "cell_type": "code",
      "execution_count": null,
      "metadata": {
        "id": "Vk87vxRU4_md"
      },
      "outputs": [],
      "source": [
        "#Ejecutar en la terminal\n",
        "#cd kafka_2.12-3.6.2\n",
        "#bin/zookeeper-server-start.sh config/zookeeper.properties > /dev/null 2>&1 &\n",
        "#sleep 10\n",
        "#bin/kafka-server-start.sh config/server.properties > /dev/null 2>&1 &\n",
        "#sleep 10\n",
        "#bin/kafka-topics.sh --create --topic promedios --bootstrap-server localhost:9092\n",
        "#bin/kafka-console-producer.sh --topic promedios --bootstrap-server localhost:9092"
      ]
    },
    {
      "cell_type": "code",
      "execution_count": null,
      "metadata": {
        "id": "OyIkziGmuiTG"
      },
      "outputs": [],
      "source": [
        "%xterm"
      ]
    },
    {
      "cell_type": "code",
      "source": [
        "\n",
        "\n",
        "\n"
      ],
      "metadata": {
        "id": "HF-H0STfD8fU"
      },
      "execution_count": null,
      "outputs": []
    },
    {
      "cell_type": "code",
      "execution_count": null,
      "metadata": {
        "id": "voOt1GMjyIre"
      },
      "outputs": [],
      "source": [
        "from pyspark.sql import SparkSession"
      ]
    },
    {
      "cell_type": "code",
      "execution_count": null,
      "metadata": {
        "id": "oqcaKvG8yIub"
      },
      "outputs": [],
      "source": [
        "spark = SparkSession. \\\n",
        "builder. \\\n",
        "appName('UNIR'). \\\n",
        "config(\"spark.executor.memory\", \"5g\"). \\\n",
        "config(\"spark.driver.memory\", \"10g\"). \\\n",
        "config('spark.dirver.maxResultSize', '1g'). \\\n",
        "config('spark.jars.packages','org.apache.spark:spark-sql-kafka-0-10_2.12:3.4.3'). \\\n",
        "getOrCreate()"
      ]
    },
    {
      "cell_type": "code",
      "execution_count": null,
      "metadata": {
        "id": "MMyIBRh80JyE"
      },
      "outputs": [],
      "source": []
    },
    {
      "cell_type": "code",
      "execution_count": null,
      "metadata": {
        "id": "CVjjbIRj1a4d"
      },
      "outputs": [],
      "source": [
        "tiposStreamingDF = (spark\n",
        "  .readStream\n",
        "  .format(\"kafka\")\n",
        "  .option(\"kafka.bootstrap.servers\", \"localhost:9092\")\n",
        "  .option(\"subscribe\", \"promedios\")\n",
        "  .load())\n"
      ]
    },
    {
      "cell_type": "code",
      "source": [
        "tiposStreamingDF.printSchema()"
      ],
      "metadata": {
        "id": "Og5OXoor7ali"
      },
      "execution_count": null,
      "outputs": []
    },
    {
      "cell_type": "code",
      "execution_count": null,
      "metadata": {
        "id": "6g72IQlr1dKh"
      },
      "outputs": [],
      "source": [
        "from pyspark.sql.types import StructType, StructField, StringType, DoubleType\n",
        "import pyspark.sql.functions as F\n",
        "esquema = StructType([\\\n",
        "  StructField(\"tipo\", StringType()),\\\n",
        "  StructField(\"total\", DoubleType())\\\n",
        "])"
      ]
    },
    {
      "cell_type": "code",
      "source": [
        "\n",
        "parsedDF = tiposStreamingDF\\\n",
        "     .select(\"value\")\\\n",
        "     .withColumn(\"value\", F.col(\"value\").cast(StringType()))\\\n",
        "     .withColumn(\"parejas\", F.from_json(F.col(\"value\"), esquema))\\\n",
        "     .withColumn(\"tipo\", F.col(\"parejas.tipo\"))\\\n",
        "     .withColumn(\"total\", F.col(\"parejas.total\"))\n"
      ],
      "metadata": {
        "id": "s3BrNg-c6wdr"
      },
      "execution_count": null,
      "outputs": []
    },
    {
      "cell_type": "code",
      "source": [
        "parsedDF.printSchema()"
      ],
      "metadata": {
        "id": "74sFGV_V7iPW"
      },
      "execution_count": null,
      "outputs": []
    },
    {
      "cell_type": "code",
      "source": [
        "promediosStreamingDF = parsedDF \\\n",
        "    .groupBy(\"tipo\") \\\n",
        "    .agg(F.avg(\"total\").alias(\"promedio\")) \\\n",
        "    .orderBy(F.desc(\"promedio\"))"
      ],
      "metadata": {
        "id": "3evp-zpa60ws"
      },
      "execution_count": null,
      "outputs": []
    },
    {
      "cell_type": "code",
      "source": [
        "salida = promediosStreamingDF\\\n",
        "                    .writeStream\\\n",
        "                    .queryName(\"AgregacionPromedios\")\\\n",
        "                    .outputMode(\"complete\")\\\n",
        "                    .format(\"memory\")\\\n",
        "                    .start()"
      ],
      "metadata": {
        "id": "S0WXFIRO63Qw"
      },
      "execution_count": null,
      "outputs": []
    },
    {
      "cell_type": "code",
      "source": [],
      "metadata": {
        "id": "kSE3WvWtAOZp"
      },
      "execution_count": null,
      "outputs": []
    },
    {
      "cell_type": "code",
      "source": [
        "promediosDF = spark.table(\"AgregacionPromedios\")\n",
        "promediosDF.show()"
      ],
      "metadata": {
        "id": "Yu_1jGBv8y58"
      },
      "execution_count": null,
      "outputs": []
    },
    {
      "cell_type": "code",
      "source": [
        "{\"tipo\": \"gasto\", \"total\": 1.5}\n",
        "{\"tipo\": \"gasto\", \"total\": 2.5}"
      ],
      "metadata": {
        "id": "tcyDv1mbHPPx"
      },
      "execution_count": null,
      "outputs": []
    },
    {
      "cell_type": "code",
      "source": [
        "promediosDF.show()"
      ],
      "metadata": {
        "id": "_7gIamym84b2"
      },
      "execution_count": null,
      "outputs": []
    },
    {
      "cell_type": "code",
      "source": [
        "{\"tipo\": \"ingreso\", \"total\": 7.0}"
      ],
      "metadata": {
        "id": "FjkkFqu7H6rh"
      },
      "execution_count": null,
      "outputs": []
    },
    {
      "cell_type": "code",
      "source": [
        "promediosDF.show()"
      ],
      "metadata": {
        "id": "M3kBq2bJ-COK"
      },
      "execution_count": null,
      "outputs": []
    },
    {
      "cell_type": "code",
      "source": [
        "{\"tipo\": \"ingreso\", \"total\": 6.5}"
      ],
      "metadata": {
        "id": "YacVPXqZINzv"
      },
      "execution_count": null,
      "outputs": []
    },
    {
      "cell_type": "code",
      "source": [
        "promediosDF.show()"
      ],
      "metadata": {
        "id": "JKdNCNBGIOwM"
      },
      "execution_count": null,
      "outputs": []
    },
    {
      "cell_type": "code",
      "source": [
        "salida.stop()"
      ],
      "metadata": {
        "id": "XF7YQ2K--5yD"
      },
      "execution_count": null,
      "outputs": []
    },
    {
      "cell_type": "code",
      "source": [],
      "metadata": {
        "id": "d1x495hd-9-f"
      },
      "execution_count": null,
      "outputs": []
    }
  ],
  "metadata": {
    "colab": {
      "provenance": [],
      "authorship_tag": "ABX9TyOqSJXZKI0xwou29CjosANq",
      "include_colab_link": true
    },
    "kernelspec": {
      "display_name": "Python 3",
      "name": "python3"
    },
    "language_info": {
      "name": "python"
    }
  },
  "nbformat": 4,
  "nbformat_minor": 0
}