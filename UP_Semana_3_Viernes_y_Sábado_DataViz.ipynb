{
  "nbformat": 4,
  "nbformat_minor": 0,
  "metadata": {
    "colab": {
      "provenance": [],
      "authorship_tag": "ABX9TyODURJ8nhH1V720CvTMBmwJ",
      "include_colab_link": true
    },
    "kernelspec": {
      "name": "python3",
      "display_name": "Python 3"
    },
    "language_info": {
      "name": "python"
    }
  },
  "cells": [
    {
      "cell_type": "markdown",
      "metadata": {
        "id": "view-in-github",
        "colab_type": "text"
      },
      "source": [
        "<a href=\"https://colab.research.google.com/github/abxda/python/blob/main/UP_Semana_3_Viernes_y_S%C3%A1bado_DataViz.ipynb\" target=\"_parent\"><img src=\"https://colab.research.google.com/assets/colab-badge.svg\" alt=\"Open In Colab\"/></a>"
      ]
    },
    {
      "cell_type": "code",
      "execution_count": null,
      "metadata": {
        "id": "-K6tEtSA9_Iy"
      },
      "outputs": [],
      "source": [
        "#!pip install pandas geopandas seaborn tqdm requests"
      ]
    },
    {
      "cell_type": "code",
      "source": [
        "pip install geohexgrid"
      ],
      "metadata": {
        "id": "I1swv1hiSNmO"
      },
      "execution_count": null,
      "outputs": []
    },
    {
      "cell_type": "code",
      "source": [
        "import os\n",
        "import time\n",
        "from zipfile import ZipFile\n",
        "import requests\n",
        "from tqdm import tqdm\n",
        "import pandas as pd\n",
        "import geopandas as gpd\n",
        "import numpy as np\n",
        "from shapely.geometry import Polygon\n",
        "from math import sin, cos, radians, sqrt\n",
        "import geohexgrid as ghg\n",
        "import matplotlib.pyplot as plt\n",
        "import folium"
      ],
      "metadata": {
        "id": "p56dvrpw-K49"
      },
      "execution_count": null,
      "outputs": []
    },
    {
      "cell_type": "markdown",
      "source": [
        "### Explicación de la función `download`\n",
        "\n",
        "Esta función está diseñada para descargar archivos desde internet, verificando primero si el archivo ya existe en el directorio local antes de proceder con la descarga. A continuación, se desglosa el código paso a paso para entender mejor su funcionamiento.\n",
        "\n",
        "#### Definición de la función\n",
        "```python\n",
        "def download(url, directory):\n",
        "```\n",
        "- `download` es el nombre de la función.\n",
        "- `url` es un parámetro de la función que espera una cadena de texto representando la URL del archivo que se desea descargar.\n",
        "- `directory` es otro parámetro que indica el directorio local donde se guardará el archivo descargado.\n",
        "\n",
        "#### Extracción del nombre del archivo\n",
        "```python\n",
        "filename = url.split('/')[-1]\n",
        "```\n",
        "- `url.split('/')` divide la URL en partes donde cada parte es separada por `/`. Esto crea una lista de todos los segmentos de la URL.\n",
        "- `['-1']` selecciona el último elemento de la lista, que generalmente es el nombre del archivo en una URL estándar.\n",
        "\n",
        "#### Creación de la ruta completa del archivo\n",
        "```python\n",
        "filepath = os.path.join(directory, filename)\n",
        "```\n",
        "- `os.path.join(directory, filename)` concatena el directorio con el nombre del archivo utilizando el separador de directorio adecuado para el sistema operativo en uso (por ejemplo, `/` en UNIX y `\\` en Windows). Esto asegura que la ruta del archivo sea correcta sin importar el sistema operativo.\n",
        "\n",
        "#### Verificación de la existencia del archivo\n",
        "```python\n",
        "if os.path.exists(filepath):\n",
        "    print(f\"El archivo {filename} ya existe, no se descarga de nuevo.\")\n",
        "    return\n",
        "```\n",
        "- `os.path.exists(filepath)` verifica si un archivo ya existe en la ruta especificada.\n",
        "- Si el archivo existe, se imprime un mensaje indicando que el archivo ya existe y se termina la ejecución de la función con `return`, evitando realizar la descarga nuevamente.\n",
        "\n",
        "#### Simulación de retardo y proceso de descarga\n",
        "```python\n",
        "time.sleep(5)  # Simular retardo en la red\n",
        "```\n",
        "- `time.sleep(5)` pausa la ejecución del programa por 5 segundos, simulando un retardo en la red como podría ocurrir en una situación real de descarga.\n",
        "\n",
        "```python\n",
        "r = requests.get(url, stream=True)\n",
        "```\n",
        "- `requests.get(url, stream=True)` realiza una solicitud HTTP GET para descargar el contenido del `url`. El argumento `stream=True` permite descargar el contenido en fragmentos, lo que es útil para archivos grandes.\n",
        "\n",
        "```python\n",
        "total_size = int(r.headers['content-length'])\n",
        "```\n",
        "- `r.headers['content-length']` obtiene la longitud del contenido desde los encabezados de la respuesta HTTP, que es la longitud total del archivo en bytes.\n",
        "- `int()` convierte la longitud del contenido en un entero.\n",
        "\n",
        "#### Escritura del archivo en partes\n",
        "```python\n",
        "with open(filepath, 'wb') as f:\n",
        "```\n",
        "- `open(filepath, 'wb')` abre el archivo en modo binario para escritura (`'wb'`). Esto es necesario para archivos no textuales como imágenes, música, etc.\n",
        "- `as f` asigna el archivo abierto a la variable `f`.\n",
        "\n",
        "```python\n",
        "for data in tqdm(iterable=r.iter_content(chunk_size=1024), total=total_size / 1024, unit='KB'):\n",
        "    f.write(data)\n",
        "```\n",
        "- `r.iter_content(chunk_size=1024)` genera los datos del archivo en partes (o \"chunks\") de 1024 bytes.\n",
        "- `tqdm()` es un iterador que muestra una barra de progreso para visualizar el avance de la descarga.\n",
        "- `total=total_size / 1024` y `unit='KB'` configuran la barra de progreso para mostrar el progreso en kilobytes.\n",
        "- `f.write(data)` escribe cada parte del archivo en el disco.\n"
      ],
      "metadata": {
        "id": "-aCCv3H8FWto"
      }
    },
    {
      "cell_type": "code",
      "source": [
        "def download(url, directory):\n",
        "    filename = url.split('/')[-1]\n",
        "    filepath = os.path.join(directory, filename)\n",
        "\n",
        "    # Verificar si el archivo ya existe\n",
        "    if os.path.exists(filepath):\n",
        "        print(f\"El archivo {filename} ya existe, no se descarga de nuevo.\")\n",
        "        return\n",
        "\n",
        "    # Proceso de descarga\n",
        "    time.sleep(5)  # Simular retardo en la red\n",
        "    r = requests.get(url, stream=True)\n",
        "    total_size = int(r.headers['content-length'])\n",
        "    with open(filepath, 'wb') as f:\n",
        "        for data in tqdm(iterable=r.iter_content(chunk_size=1024), total=total_size / 1024, unit='KB'):\n",
        "            f.write(data)\n"
      ],
      "metadata": {
        "id": "ZrGTEIf7QPsI"
      },
      "execution_count": null,
      "outputs": []
    },
    {
      "cell_type": "markdown",
      "source": [
        "### Explicación de la función `extract_shapefile`\n",
        "\n",
        "Esta función está diseñada para extraer archivos específicos de un conjunto de archivos zip relacionados con datos geográficos, específicamente archivos shapefile y sus componentes asociados.\n",
        "\n",
        "Esta función gestiona eficientemente la verificación y extracción de archivos necesarios para trabajar con datos geográficos shapefile, asegurando que no se realicen descompresiones innecesarias y manejando casos especiales como la ausencia del archivo `.cpg`.\n",
        "\n",
        "Analicemos el código paso a paso para comprender cada uno de sus componentes.\n",
        "\n",
        "#### Definición de la función\n",
        "```python\n",
        "def extract_shapefile(estados_geo, directory, shp_dir, shape_type):\n",
        "```\n",
        "- `extract_shapefile` es el nombre de la función.\n",
        "- `estados_geo` es una lista de nombres de archivos zip, cada uno representando un estado o región geográfica.\n",
        "- `directory` es el directorio donde están almacenados los archivos zip.\n",
        "- `shp_dir` es el directorio donde se extraerán los archivos shapefile.\n",
        "- `shape_type` es un sufijo o tipo que define el conjunto específico de archivos shapefile dentro de los zips.\n",
        "\n",
        "#### Iteración sobre cada archivo zip\n",
        "```python\n",
        "for estado in estados_geo:\n",
        "    file = estado.split('_')[0]\n",
        "    zip_file = os.path.join(directory, estado)\n",
        "```\n",
        "- Se itera sobre cada elemento en `estados_geo`.\n",
        "- `estado.split('_')[0]` extrae la parte inicial del nombre del archivo, que corresponde al identificador del estado o región, separado por un guion bajo `_`.\n",
        "- `os.path.join(directory, estado)` genera la ruta completa al archivo zip combinando el directorio base con el nombre del archivo.\n",
        "\n",
        "#### Lista de archivos necesarios\n",
        "```python\n",
        "shp_files = [\n",
        "    f'conjunto_de_datos/{file}{shape_type}.shp',\n",
        "    f'conjunto_de_datos/{file}{shape_type}.cpg',\n",
        "    f'conjunto_de_datos/{file}{shape_type}.dbf',\n",
        "    f'conjunto_de_datos/{file}{shape_type}.prj',\n",
        "    f'conjunto_de_datos/{file}{shape_type}.shx'\n",
        "]\n",
        "```\n",
        "- `shp_files` es una lista de rutas de archivos shapefile que se esperan encontrar dentro del zip. Estos incluyen archivos `.shp`, `.cpg`, `.dbf`, `.prj`, `.shx`, que son componentes estándar de un conjunto de datos geográficos shapefile.\n",
        "\n",
        "#### Verificación de existencia de archivos\n",
        "```python\n",
        "if all(os.path.exists(os.path.join(shp_dir, f)) for f in shp_files):\n",
        "    print(f\"Todos los archivos para {file} ya están descomprimidos en {shp_dir}\")\n",
        "    continue\n",
        "```\n",
        "- `all()` verifica si todos los archivos listados en `shp_files` ya existen en el directorio `shp_dir`.\n",
        "- Si todos los archivos ya están presentes, imprime un mensaje indicando esto y continúa con el siguiente archivo zip en la lista usando `continue`.\n",
        "\n",
        "#### Proceso de descompresión\n",
        "```python\n",
        "with ZipFile(zip_file, 'r') as zip:\n",
        "    for f in shp_files:\n",
        "        try:\n",
        "            zip.extract(f, shp_dir)\n",
        "        except KeyError:\n",
        "            if f.endswith('.cpg'):  # Archivo CPG es opcional\n",
        "                with open(os.path.join(shp_dir, f), 'w') as out_file:\n",
        "                    out_file.write(\"ISO 88591\")\n",
        "            else:\n",
        "                print(f\"El archivo {f} no se encontró en el ZIP.\")\n",
        "```\n",
        "- `ZipFile(zip_file, 'r')` abre el archivo zip en modo lectura.\n",
        "- Se itera sobre cada archivo en `shp_files` intentando extraerlo en `shp_dir`.\n",
        "- Si un archivo no se encuentra (`KeyError`), se verifica si es un archivo `.cpg` (que es opcional). Si lo es, se crea un archivo `.cpg` con un contenido predeterminado (\"ISO 88591\"). Si no es un `.cpg`, se imprime un mensaje de error indicando que el archivo no se encontró.\n",
        "\n"
      ],
      "metadata": {
        "id": "PrghIZKoGqdH"
      }
    },
    {
      "cell_type": "code",
      "source": [
        "def extract_shapefile(estados_geo, directory, shp_dir, shape_type):\n",
        "    for estado in estados_geo:\n",
        "        file = estado.split('_')[0]\n",
        "        zip_file = os.path.join(directory, estado)\n",
        "        shp_files = [\n",
        "            f'conjunto_de_datos/{file}{shape_type}.shp',\n",
        "            f'conjunto_de_datos/{file}{shape_type}.cpg',\n",
        "            f'conjunto_de_datos/{file}{shape_type}.dbf',\n",
        "            f'conjunto_de_datos/{file}{shape_type}.prj',\n",
        "            f'conjunto_de_datos/{file}{shape_type}.shx'\n",
        "        ]\n",
        "\n",
        "        # Verificar si todos los archivos necesarios ya están descomprimidos\n",
        "        if all(os.path.exists(os.path.join(shp_dir, f)) for f in shp_files):\n",
        "            print(f\"Todos los archivos para {file} ya están descomprimidos en {shp_dir}\")\n",
        "            continue\n",
        "\n",
        "        # Proceso de descompresión\n",
        "        with ZipFile(zip_file, 'r') as zip:\n",
        "            for f in shp_files:\n",
        "                try:\n",
        "                    zip.extract(f, shp_dir)\n",
        "                except KeyError:\n",
        "                    if f.endswith('.cpg'):  # Archivo CPG es opcional\n",
        "                        with open(os.path.join(shp_dir, f), 'w') as out_file:\n",
        "                            out_file.write(\"ISO 88591\")\n",
        "                    else:\n",
        "                        print(f\"El archivo {f} no se encontró en el ZIP.\")"
      ],
      "metadata": {
        "id": "fdLqjKwbQ0qe"
      },
      "execution_count": null,
      "outputs": []
    },
    {
      "cell_type": "code",
      "source": [
        "estados_geo = [\"01_aguascalientes.zip\",\"02_bajacalifornia.zip\",\"03_bajacaliforniasur.zip\",\"04_campeche.zip\",\"05_coahuiladezaragoza.zip\",\"06_colima.zip\",\"07_chiapas.zip\",\"08_chihuahua.zip\",\"09_ciudaddemexico.zip\",\"10_durango.zip\",\"11_guanajuato.zip\",\"12_guerrero.zip\",\"13_hidalgo.zip\",\"14_jalisco.zip\",\"15_mexico.zip\",\"16_michoacandeocampo.zip\",\"17_morelos.zip\",\"18_nayarit.zip\",\"19_nuevoleon.zip\",\"20_oaxaca.zip\",\"21_puebla.zip\",\"22_queretaro.zip\",\"23_quintanaroo.zip\",\"24_sanluispotosi.zip\",\"25_sinaloa.zip\",\"26_sonora.zip\",\"27_tabasco.zip\",\"28_tamaulipas.zip\",\"29_tlaxcala.zip\",\"30_veracruzignaciodelallave.zip\",\"31_yucatan.zip\",\"32_zacatecas.zip\"]\n",
        "estados_num = [1, 2, 3, 4, 5, 6, 7, 8, 9, 10, 11, 12, 13 ,14 ,15, 16, 17, 18, 19, 20, 21, 22, 23 ,24, 25, 26, 27, 28, 29, 30, 31, 32]"
      ],
      "metadata": {
        "id": "1GZa8IAVRYHL"
      },
      "execution_count": null,
      "outputs": []
    },
    {
      "cell_type": "markdown",
      "source": [
        "### Explicación Detallada del Código\n",
        "\n",
        "El código realiza la preparación de directorios para descargar y almacenar archivos, particularmente centrado en datos geográficos del INEGI. A continuación, se explica cada línea del código y su propósito:\n",
        "\n",
        "#### Definición de Variables\n",
        "\n",
        "```python\n",
        "estados_geo = [\"01_aguascalientes.zip\"]\n",
        "estados_num = [1]\n",
        "```\n",
        "\n",
        "- `estados_geo`: Esta lista contiene nombres de archivos que representan datos geográficos específicos por estado, en este caso, para Aguascalientes. Estos archivos están en formato zip y que contienen datos shapefile.\n",
        "- `estados_num`: Esta lista contiene un identificador numérico para los estados, sirve para operaciones que requieren un índice numérico del estado de acuerdo a la numeración INEGI.\n",
        "\n",
        "#### Configuración de Directorios\n",
        "\n",
        "```python\n",
        "download_directory = \"./inegi/ccpvagebmza/\"\n",
        "csv_directory = download_directory + \"csv/\"\n",
        "```\n",
        "\n",
        "- `download_directory`: Define una ruta relativa donde se guardarán los datos descargados.\n",
        "- `csv_directory`: Especifica un subdirectorio dentro del directorio de descarga para almacenar datos en formato CSV.\n",
        "\n",
        "#### Creación de Directorios\n",
        "\n",
        "```python\n",
        "os.makedirs(download_directory, exist_ok=True)\n",
        "os.makedirs(csv_directory, exist_ok=True)\n",
        "os.makedirs(\"./inegi/mgccpv/gpkg\", exist_ok=True)\n",
        "```\n",
        "\n",
        "- `os.makedirs(path, exist_ok=True)`: Esta función intenta crear un directorio en la ruta especificada por `path`. Si el directorio ya existe, no se crea de nuevo gracias al parámetro `exist_ok=True`, lo que previene un error que ocurriría si se intenta crear un directorio existente sin este parámetro.\n",
        "\n",
        "   - La primera llamada crea el directorio `download_directory`, que es `\"./inegi/ccpvagebmza/\"`.\n",
        "   - La segunda llamada crea el directorio `csv_directory`, que se establece en `\"./inegi/ccpvagebmza/csv/\"`.\n",
        "   - La tercera llamada crea otro directorio específico para almacenar archivos en formato GeoPackage (`gpkg`), que es un formato de base de datos geoespacial abierto para datos geográficos.\n"
      ],
      "metadata": {
        "id": "-E_78FKIJmXJ"
      }
    },
    {
      "cell_type": "code",
      "source": [
        "estados_geo = [\"01_aguascalientes.zip\"]\n",
        "estados_num = [1]"
      ],
      "metadata": {
        "id": "03u4p3srT6-g"
      },
      "execution_count": null,
      "outputs": []
    },
    {
      "cell_type": "code",
      "source": [
        "download_directory = \"./inegi/ccpvagebmza/\"\n",
        "csv_directory = download_directory + \"csv/\"\n",
        "\n",
        "os.makedirs(download_directory, exist_ok=True)\n",
        "os.makedirs(csv_directory, exist_ok=True)\n",
        "os.makedirs(\"./inegi/mgccpv/gpkg\", exist_ok=True)\n"
      ],
      "metadata": {
        "id": "3nOqZiJGSCQF"
      },
      "execution_count": null,
      "outputs": []
    },
    {
      "cell_type": "markdown",
      "source": [
        "### Explicación del Script para Descargar y Extraer Datos Estadísticos por Estado\n",
        "\n",
        "El siguiente bloque automatiza el proceso de descargar y extraer datos estadísticos para cada estado de México desde el sitio web del INEGI.\n",
        "\n",
        "#### Estructura del Bucle y Preparación de Rutas\n",
        "\n",
        "```python\n",
        "for i in estados_num:\n",
        "    estado = str(i).zfill(2)\n",
        "    zip_file_path = f'{download_directory}ageb_mza_urbana_{estado}_cpv2020_csv.zip'\n",
        "    csv_file_path = f'{csv_directory}conjunto_de_datos/conjunto_de_datos_ageb_urbana_{estado}_cpv2020.csv'\n",
        "```\n",
        "\n",
        "- El bucle `for` itera sobre la lista `estados_num`, que contiene números identificadores de cada estado.\n",
        "- `estado = str(i).zfill(2)`: Convierte el número del estado a una cadena y asegura que tenga al menos dos dígitos, rellenando con ceros si es necesario. Esto es útil para formatear correctamente los nombres de archivos que incluyen identificadores de estado de dos dígitos.\n",
        "- `zip_file_path`: Define la ruta completa al archivo ZIP que debería contener los datos descargados. Esta ruta incluye el directorio de descarga y el nombre del archivo ZIP formateado con el identificador del estado.\n",
        "- `csv_file_path`: Especifica la ruta al archivo CSV que será extraído del archivo ZIP. Esta ruta apunta al directorio donde se almacenan los CSVs y sigue una estructura de carpetas específica.\n",
        "\n",
        "#### Comprobación y Descarga de Archivos\n",
        "\n",
        "```python\n",
        "if not os.path.exists(csv_file_path):\n",
        "    url = f'https://www.inegi.org.mx/contenidos/programas/ccpv/2020/datosabiertos/ageb_manzana/ageb_mza_urbana_{estado}_cpv2020_csv.zip'\n",
        "```\n",
        "\n",
        "- Antes de proceder con la descarga o extracción, el script verifica si el archivo CSV ya existe en el destino usando `os.path.exists(csv_file_path)`.\n",
        "- Si el CSV no existe, construye una URL para descargar el archivo ZIP correspondiente al estado actual en el bucle, utilizando el identificador del estado para generar la URL correcta.\n",
        "\n",
        "#### Descarga Condicional y Extracción de Archivos\n",
        "\n",
        "```python\n",
        "if not os.path.exists(zip_file_path):\n",
        "    download(url, download_directory)\n",
        "```\n",
        "\n",
        "- Si el archivo ZIP no existe en la ruta especificada, llama a la función `download` para descargar el archivo desde la URL generada.\n",
        "\n",
        "```python\n",
        "with ZipFile(zip_file_path, 'r') as zip_ref:\n",
        "    zip_ref.extract(f'ageb_mza_urbana_01_cpv2020/conjunto_de_datos/conjunto_de_datos_ageb_urbana_{estado}_cpv2020.csv', csv_directory)\n",
        "```\n",
        "\n",
        "- Si el archivo ZIP ya está disponible, lo abre y extrae específicamente el archivo CSV requerido usando la ruta relativa dentro del ZIP. El archivo extraído se coloca en el `csv_directory`.\n",
        "\n",
        "#### Manejo de Archivos Ya Existente\n",
        "\n",
        "```python\n",
        "else:\n",
        "    print(f'El archivo CSV para el estado {estado} ya existe y no se descargará ni descomprimirá de nuevo.')\n",
        "```\n",
        "\n",
        "- Si el archivo CSV ya existe, simplemente imprime un mensaje indicando que el archivo ya está disponible y no realiza ninguna acción de descarga o extracción.\n",
        "\n",
        "### Ejemplos de Rutas Utilizando la Información de Aguascalientes\n",
        "\n",
        "Supongamos que el identificador para Aguascalientes es `01`. Las rutas serían construidas de la siguiente manera según el código:\n",
        "\n",
        "- **Ruta del archivo ZIP**: `./inegi/ccpvagebmza/ageb_mza_urbana_01_cpv2020_csv.zip`\n",
        "- **Ruta del archivo CSV**: `./inegi/ccpvagebmza/csv/conjunto_de_datos/conjunto_de_datos_ageb_urbana_01_cpv2020.csv`\n",
        "\n",
        "Este script es útil para manejar grandes volúmenes de datos distribuidos por estados, automatizando el proceso de mantenimiento de datos actualizados y correctamente organizados en el sistema de archivos local."
      ],
      "metadata": {
        "id": "vpm60w26LgYn"
      }
    },
    {
      "cell_type": "code",
      "source": [
        "# Descargar datos estadísticos por estado\n",
        "for i in estados_num:\n",
        "    estado = str(i).zfill(2)\n",
        "    zip_file_path = f'{download_directory}ageb_mza_urbana_{estado}_cpv2020_csv.zip'\n",
        "    csv_file_path = f'{csv_directory}conjunto_de_datos/conjunto_de_datos_ageb_urbana_{estado}_cpv2020.csv'\n",
        "\n",
        "    # Comprobar si el archivo CSV ya ha sido extraído\n",
        "    if not os.path.exists(csv_file_path):\n",
        "        url = f'https://www.inegi.org.mx/contenidos/programas/ccpv/2020/datosabiertos/ageb_manzana/ageb_mza_urbana_{estado}_cpv2020_csv.zip'\n",
        "\n",
        "        # Comprobar si el archivo ZIP ya existe antes de descargarlo\n",
        "        if not os.path.exists(zip_file_path):\n",
        "            download(url, download_directory)  # Asegúrate de que la función `download` acepte el directorio de destino\n",
        "        # Descomprimir el archivo CSV específico si el ZIP ya está disponible\n",
        "        with ZipFile(zip_file_path, 'r') as zip_ref:\n",
        "            zip_ref.extract(f'ageb_mza_urbana_01_cpv2020/conjunto_de_datos/conjunto_de_datos_ageb_urbana_{estado}_cpv2020.csv', csv_directory)\n",
        "    else:\n",
        "        print(f'El archivo CSV para el estado {estado} ya existe y no se descargará ni descomprimirá de nuevo.')"
      ],
      "metadata": {
        "id": "fFwP7gb2SRm6"
      },
      "execution_count": null,
      "outputs": []
    },
    {
      "cell_type": "markdown",
      "source": [
        "### Explicación del Código para Descargar y Extraer Datos del Marco Geoestadístico\n",
        "\n",
        "Este bloque de código maneja la descarga y extracción de archivos del marco geoestadístico del INEGI, específicamente relacionados con las manzanas geográficas de diferentes estados derivados del Censo de Población.\n",
        "\n",
        "#### Definición de la URL Base\n",
        "\n",
        "```python\n",
        "url_mgccpv = \"https://www.inegi.org.mx/contenidos/productos/prod_serv/contenidos/espanol/bvinegi/productos/geografia/marcogeo/889463807469/\"\n",
        "```\n",
        "\n",
        "- `url_mgccpv` es una variable que almacena la URL base donde se encuentran los archivos geoestadísticos para descargar. Esta URL apunta a una página específica dentro del sitio web del INEGI que contiene datos relacionados con la geografía y el marco geoestadístico.\n",
        "\n",
        "#### Bucle para Descargar Archivos\n",
        "\n",
        "```python\n",
        "for state in estados_geo:\n",
        "    download(url_mgccpv + state, \"./inegi/mgccpv\")\n",
        "```\n",
        "\n",
        "- Este bucle `for` itera sobre la lista `estados_geo`, que contiene los nombres de los archivos de cada estado en formato ZIP.\n",
        "- `download(url_mgccpv + state, \"./inegi/mgccpv\")`: Por cada estado, se llama a la función `download`, pasándole la URL completa (combinación de la URL base y el nombre del archivo del estado) y el directorio donde se debe guardar el archivo descargado. Este directorio es `\"./inegi/mgccpv\"`, que se asume que está estructurado para recibir estos archivos.\n",
        "\n",
        "#### Configuración de Tipos de Archivos y Directorios para Extracción\n",
        "\n",
        "```python\n",
        "shape_type = \"m\"\n",
        "directory= \"./inegi/mgccpv/\"\n",
        "shp_dir = directory+\"shp/m/\"\n",
        "```\n",
        "\n",
        "- `shape_type = \"m\"`: Define el tipo de archivo shapefile que se desea extraer, en este caso, archivos relacionados con manzanas ('m' de manzana).\n",
        "- `directory`: Especifica el directorio base donde se han descargado los archivos ZIP. Este es el mismo directorio utilizado en la descarga.\n",
        "- `shp_dir`: Define el subdirectorio específico dentro de `directory` donde se extraerán los archivos shapefile. En este caso, se organiza bajo el subdirectorio `\"shp/m/\"` para indicar que son datos de manzanas.\n",
        "\n",
        "#### Extracción de Archivos Shapefile\n",
        "\n",
        "```python\n",
        "extract_shapefile(estados_geo, directory, shp_dir, shape_type)\n",
        "```\n",
        "\n",
        "- `extract_shapefile(estados_geo, directory, shp_dir, shape_type)`: Llama a la función `extract_shapefile`, que ha sido definida anteriormente para manejar la extracción de los archivos necesarios de los ZIPs descargados. Los parámetros son:\n",
        "  - `estados_geo`: Lista de nombres de archivos de estados.\n",
        "  - `directory`: Directorio donde se encuentran los archivos ZIP.\n",
        "  - `shp_dir`: Directorio destino para los archivos shapefile extraídos.\n",
        "  - `shape_type`: Sufijo que define el tipo de archivo shapefile a extraer, asociado a las manzanas.\n",
        "\n",
        "### Ejemplos de Rutas Usando la Información de Aguascalientes\n",
        "\n",
        "Si consideramos que \"01_aguascalientes.zip\" es un elemento de `estados_geo` para Aguascalientes, y aplicamos este código, el proceso sería el siguiente:\n",
        "\n",
        "- Descargar el archivo ZIP de Aguascalientes desde:\n",
        "  ```\n",
        "  https://www.inegi.org.mx/contenidos/productos/prod_serv/contenidos/espanol/bvinegi/productos/geografia/marcogeo/889463807469/01_aguascalientes.zip\n",
        "  ```\n",
        "- Guardar este archivo en:\n",
        "  ```\n",
        "  ./inegi/mgccpv/01_aguascalientes.zip\n",
        "  ```\n",
        "- Extraer archivos específicos de shapefile del ZIP descargado a:\n",
        "  ```\n",
        "  ./inegi/mgccpv/shp/m/\n",
        "  ```\n",
        "\n",
        "Este script automatiza la gestión de datos geográficos, facilitando tareas repetitivas y asegurando que los datos estén organizados y accesibles para análisis y aplicaciones futuras."
      ],
      "metadata": {
        "id": "z35HhdB_PHV5"
      }
    },
    {
      "cell_type": "code",
      "source": [
        "url_mgccpv = \"https://www.inegi.org.mx/contenidos/productos/prod_serv/contenidos/espanol/bvinegi/productos/geografia/marcogeo/889463807469/\"\n",
        "for state in estados_geo:\n",
        "    download(url_mgccpv + state, \"./inegi/mgccpv\")\n",
        "\n",
        "# Manzanas\n",
        "shape_type = \"m\"\n",
        "directory= \"./inegi/mgccpv/\"\n",
        "shp_dir = directory+\"shp/m/\"\n",
        "extract_shapefile(estados_geo,directory,shp_dir,shape_type)\n"
      ],
      "metadata": {
        "id": "0CUTRWvmURTD"
      },
      "execution_count": null,
      "outputs": []
    },
    {
      "cell_type": "markdown",
      "source": [
        "### Explicación Detallada del Código para Procesamiento y Guardado de Datos Geográficos y Censales\n",
        "\n",
        "Este script se encarga de procesar y combinar datos geográficos y censales para cada estado en México, utilizando la librería GeoPandas para manejar datos espaciales y Pandas para los datos tabulares. A continuación se explica cada parte del código:\n",
        "\n",
        "#### Bucle sobre los estados\n",
        "\n",
        "```python\n",
        "for estado in estados_geo:\n",
        "    file = estado.split('_')[0]\n",
        "    print(\"procesando estado: \"+ file)\n",
        "```\n",
        "\n",
        "- **Iteración sobre la lista `estados_geo`**: Esta lista contiene los nombres de archivos para cada estado, que incluyen tanto datos geográficos como censales.\n",
        "- **Extracción del identificador del estado**: `estado.split('_')[0]` toma el nombre del archivo, lo divide por el guion bajo (`_`) y selecciona la primera parte, que generalmente es un código o abreviatura que identifica al estado.\n",
        "- **Mensaje de inicio de procesamiento**: Se imprime un mensaje para indicar que el procesamiento del estado ha comenzado, lo cual es útil para seguimiento en procesos largos o con muchos datos.\n",
        "\n",
        "#### Lectura de Archivos Shapefile y CSV\n",
        "\n",
        "```python\n",
        "gpdf = gpd.read_file(f\"./inegi/mgccpv/shp/m/conjunto_de_datos/{file}m.shp\")\n",
        "df = pd.read_csv(f\"./inegi/ccpvagebmza/csv/ageb_mza_urbana_01_cpv2020/conjunto_de_datos/conjunto_de_datos_ageb_urbana_{file}_cpv2020.csv\", na_values=['N/A','N/D','*'])\n",
        "```\n",
        "\n",
        "- **Lectura de archivo Shapefile**: `gpd.read_file()` lee el archivo shapefile del directorio especificado, que contiene la geometría espacial de las manzanas urbanas del estado.\n",
        "- **Lectura de archivo CSV**: `pd.read_csv()` lee datos censales del CSV correspondiente. Se especifican los valores que deben considerarse como `NaN` (not a number), como 'N/A', 'N/D', y '*'.\n",
        "\n",
        "#### Creación de Columna 'CVEGEO'\n",
        "\n",
        "```python\n",
        "df['CVEGEO'] = df.apply(lambda row: str(row['ENTIDAD']).zfill(2) + str(row['MUN']).zfill(3)+ str(row['LOC']).zfill(4)+ str(row['AGEB']).zfill(4)+ str(row['MZA']).zfill(3), axis=1)\n",
        "```\n",
        "\n",
        "- **Generación de una clave geográfica**: Esta línea crea una nueva columna 'CVEGEO' en el DataFrame `df`, concatenando y formateando adecuadamente varias columnas que representan diferentes niveles administrativos y geográficos (entidad, municipio, localidad, etc.).\n",
        "\n",
        "#### Fusión de DataFrames y Limpieza\n",
        "\n",
        "```python\n",
        "df_geo_censo = pd.merge(df, gpdf, how = 'left').drop([\"CVE_ENT\", \"CVE_MUN\", \"CVE_LOC\", \"CVE_AGEB\", \"CVE_MZA\"], axis = 1)\n",
        "df_geo_censo = df_geo_censo.drop(df[df.MZA == 0].index)\n",
        "```\n",
        "\n",
        "- **Combinación de datos espaciales y censales**: `pd.merge()` combina `df` y `gpdf` usando un `left` join, lo cual significa que todas las filas de `df` se mantendrán, añadiendo la información espacial correspondiente de `gpdf`.\n",
        "- **Limpieza de columnas innecesarias**: Se eliminan varias columnas que ya no son necesarias después de la fusión.\n",
        "- **Eliminación de filas específicas**: Las filas donde el valor de la columna 'MZA' es 0 se eliminan, porque representan datos agregados a nivel estatal y municipal.\n",
        "\n",
        "#### Creación de GeoDataFrame y Guardado\n",
        "\n",
        "```python\n",
        "df_geo_censo = gpd.GeoDataFrame(df_geo_censo, geometry=\"geometry\")\n",
        "print(\"guardando datos del estado: \"+str(estado))\n",
        "df_geo_censo.to_file(f\"./inegi/mgccpv/gpkg/cpv2020_{file}.gpkg\", layer='cpv2020', driver=\"GPKG\")\n",
        "```\n",
        "\n",
        "- **Conversión a GeoDataFrame**: Se convierte `df_geo_censo` en un `GeoDataFrame`, que es una estructura de datos especial de GeoPandas diseñada para manejar datos espaciales de forma eficiente.\n",
        "- **Mensaje de guardado**: Se imprime un mensaje indicando que los datos del estado están siendo guardados, lo que es útil para seguimiento.\n"
      ],
      "metadata": {
        "id": "Ta2WtffyRV1j"
      }
    },
    {
      "cell_type": "code",
      "source": [
        "for estado in estados_geo:\n",
        "    file = estado.split('_')[0]\n",
        "    print(\"procesando estado: \"+ file)\n",
        "    gpdf = gpd.read_file(f\"./inegi/mgccpv/shp/m/conjunto_de_datos/{file}m.shp\")\n",
        "    df = pd.read_csv(f\"./inegi/ccpvagebmza/csv/ageb_mza_urbana_01_cpv2020/conjunto_de_datos/conjunto_de_datos_ageb_urbana_{file}_cpv2020.csv\",na_values=['N/A','N/D','*'])\n",
        "    df['CVEGEO'] = df.apply(lambda row: str(row['ENTIDAD']).zfill(2) + str(row['MUN']).zfill(3)+ str(row['LOC']).zfill(4)+ str(row['AGEB']).zfill(4)+ str(row['MZA']).zfill(3), axis=1)\n",
        "    df_geo_censo = pd.merge(df, gpdf, how = 'left').drop([\"CVE_ENT\", \"CVE_MUN\", \"CVE_LOC\", \"CVE_AGEB\", \"CVE_MZA\"], axis = 1)\n",
        "    df_geo_censo = df_geo_censo.drop(df[df.MZA == 0].index)\n",
        "    df_geo_censo = gpd.GeoDataFrame(df_geo_censo, geometry=\"geometry\")\n",
        "    print(\"guardando datos del estado: \"+str(estado))\n",
        "    df_geo_censo.to_file(f\"./inegi/mgccpv/gpkg/cpv2020_{file}.gpkg\", layer='cpv2020', driver=\"GPKG\")"
      ],
      "metadata": {
        "id": "U5Et3JhAgVkw"
      },
      "execution_count": null,
      "outputs": []
    },
    {
      "cell_type": "markdown",
      "source": [
        "### Explicación Detallada del Código para Agregar y Combinar DataFrames Geográficos\n",
        "\n",
        "Este fragmento de código continúa con el procesamiento de datos geográficos y censales por estado en México, específicamente consolidando datos individuales de cada estado en un único DataFrame. A continuación, se explica cada parte del código:\n",
        "\n",
        "#### Inicialización de una Lista para Almacenar DataFrames\n",
        "\n",
        "```python\n",
        "dfs = []\n",
        "```\n",
        "\n",
        "- `dfs`: Se inicializa una lista vacía llamada `dfs`. Esta lista se utilizará para almacenar temporalmente cada GeoDataFrame correspondiente a cada estado después de ser leído desde el archivo.\n",
        "\n",
        "#### Bucle para Leer y Almacenar DataFrames\n",
        "\n",
        "```python\n",
        "for estado in estados_geo:\n",
        "    file = estado.split('_')[0]\n",
        "    gdf = gpd.read_file(f\"./inegi/mgccpv/gpkg/cpv2020_{file}.gpkg\")\n",
        "    dfs.append(gdf)\n",
        "```\n",
        "\n",
        "- **Iteración sobre `estados_geo`**: Este bucle `for` recorre cada elemento en la lista `estados_geo`, que contiene los nombres de los archivos de los estados.\n",
        "- **Extracción del nombre del archivo**: `file = estado.split('_')[0]` toma el nombre del archivo, lo divide en partes donde `_` es el delimitador, y selecciona la primera parte. Esto es típicamente un código o abreviatura que identifica al estado.\n",
        "- **Lectura del archivo GeoPackage**: `gpd.read_file(f\"./inegi/mgccpv/gpkg/cpv2020_{file}.gpkg\")` lee el archivo GeoPackage correspondiente al estado en cuestión. Estos archivos contienen datos geográficos y censales combinados y preparados en pasos anteriores del proceso.\n",
        "- **Almacenamiento en la lista**: `dfs.append(gdf)` añade el GeoDataFrame `gdf` a la lista `dfs`.\n",
        "\n",
        "#### Concatenación de DataFrames en un Único DataFrame\n",
        "\n",
        "```python\n",
        "censo_df = pd.concat(dfs, ignore_index=True)\n",
        "```\n",
        "\n",
        "- **Creación de `censo_df`**: La función `pd.concat()` de Pandas se utiliza para concatenar todos los GeoDataFrames almacenados en la lista `dfs` en un único DataFrame llamado `censo_df`.\n",
        "- **`ignore_index=True`**: Este argumento es crucial porque reinicia los índices del DataFrame resultante. Sin él, los índices de los DataFrames originales se preservarían, lo que podría resultar en índices duplicados. Al usar `ignore_index=True`, los índices se ajustan automáticamente para asegurar que sean únicos y continuos a través de todo el DataFrame combinado.\n",
        "\n",
        "### Descripción General y Uso\n",
        "\n",
        "Este código consolida datos geográficos y censales dispersos en múltiples archivos en un único conjunto de datos, lo cual simplifica análisis posteriores que requieran manipulaciones o cálculos sobre el conjunto completo de datos. La eficiencia de este enfoque radica en su capacidad para manejar grandes volúmenes de datos de manera estructurada y coherente, facilitando operaciones como visualizaciones, análisis estadísticos y exportación de datos para otros usos."
      ],
      "metadata": {
        "id": "_3EsG-atVRWj"
      }
    },
    {
      "cell_type": "code",
      "source": [
        "dfs = []\n",
        "for estado in estados_geo:\n",
        "    file = estado.split('_')[0]\n",
        "    gdf = gpd.read_file(f\"./inegi/mgccpv/gpkg/cpv2020_{file}.gpkg\")\n",
        "    dfs.append(gdf)\n",
        "\n",
        "censo_df = pd.concat(dfs, ignore_index=True)"
      ],
      "metadata": {
        "id": "eEydKP9D6VMm"
      },
      "execution_count": null,
      "outputs": []
    },
    {
      "cell_type": "markdown",
      "source": [
        "### Explicación Detallada del Código para la Selección y Renombramiento de Columnas en un DataFrame\n",
        "\n",
        "Este bloque de código realiza la selección de columnas específicas de un DataFrame más grande y renombra estas columnas para facilitar su comprensión y manejo en análisis o reportes posteriores. A continuación, se explica cada parte del código:\n",
        "\n",
        "#### Selección de Columnas Específicas\n",
        "\n",
        "```python\n",
        "censo_df_mini = censo_df[[\"POBTOT\", \"VPH_INTER\", \"VPH_CVJ\", \"VPH_SPMVPI\", \"geometry\"]]\n",
        "```\n",
        "\n",
        "- **Creación de `censo_df_mini`**: Este código crea un nuevo DataFrame llamado `censo_df_mini` que contiene solo un subconjunto de las columnas de `censo_df`, el DataFrame original que incluye datos geográficos y censales consolidados de todos los estados.\n",
        "- **Columnas seleccionadas**:\n",
        "  - `\"POBTOT\"`: Representa la población total de cada manzana.\n",
        "  - `\"VPH_INTER\"`: Indica el número de viviendas por manzana que cuentan con acceso a Internet.\n",
        "  - `\"VPH_CVJ\"`: Denota el número de viviendas por manzana con consola de videojuegos.\n",
        "  - `\"VPH_SPMVPI\"`: Muestra el número de viviendas por manzana con servicios de streaming.\n",
        "  - `\"geometry\"`: Contiene los datos espaciales (poligono) que permiten representar cada manzana en un mapa.\n",
        "\n",
        "#### Renombramiento de Columnas\n",
        "\n",
        "```python\n",
        "censo_df_mini.columns = [\"PoblacionTotal\", \"ViviendasInternet\", \"ViviendasConsola\", \"ViviendasStreaming\", \"geometry\"]\n",
        "```\n",
        "\n",
        "- **Renombramiento de columnas**: Este paso cambia los nombres de las columnas en `censo_df_mini` para hacerlos más descriptivos y fáciles de entender. Los nuevos nombres de las columnas son:\n",
        "  - `\"PoblacionTotal\"`: Anteriormente `\"POBTOT\"`, refleja de forma más clara que esta columna cuenta la población total.\n",
        "  - `\"ViviendasInternet\"`: Anteriormente `\"VPH_INTER\"`, indica claramente que la columna cuenta las viviendas con acceso a Internet.\n",
        "  - `\"ViviendasConsola\"`: Cambiado de `\"VPH_CVJ\"`, especifica que esta columna cuenta las viviendas equipadas con consolas de juegos.\n",
        "  - `\"ViviendasStreaming\"`: Cambiado de `\"VPH_SPMVPI\"`, especifica que esta columna cuenta las viviendas que disponen de servicios de streaming.\n",
        "  - `\"geometry\"`: Se mantiene igual, ya que es un estándar para designar datos espaciales en GeoDataFrames.\n",
        "\n",
        "### Utilidad y Contexto\n",
        "\n",
        "La creación de `censo_df_mini` y el renombramiento de sus columnas son pasos para preparar los datos para análisis específicos o visualizaciones que requieran solo un conjunto limitado de variables. Renombrar las columnas mejora la legibilidad del código y de cualquier visualización o reporte generado a partir de estos datos, facilitando la comprensión para usuarios o analistas que no estén familiarizados con los códigos originales de las columnas."
      ],
      "metadata": {
        "id": "UJ-rqq21XB4p"
      }
    },
    {
      "cell_type": "code",
      "source": [
        "censo_df_mini = censo_df[[\"POBTOT\", \"VPH_INTER\", \"VPH_CVJ\", \"VPH_SPMVPI\", \"geometry\"]]\n",
        "censo_df_mini.columns = [\"PoblacionTotal\", \"ViviendasInternet\", \"ViviendasConsola\", \"ViviendasStreaming\", \"geometry\"]"
      ],
      "metadata": {
        "id": "828aA8Ajg9af"
      },
      "execution_count": null,
      "outputs": []
    },
    {
      "cell_type": "code",
      "source": [
        "censo_df_mini"
      ],
      "metadata": {
        "id": "emca0Vkt8Fc3"
      },
      "execution_count": null,
      "outputs": []
    },
    {
      "cell_type": "markdown",
      "source": [
        "### Explicación de la Línea de Código para Calcular y Asignar Centroides en un GeoDataFrame\n",
        "\n",
        "La línea de código realiza una operación importante en el procesamiento de datos geográficos, específicamente, calcula el centroide geométrico de cada polígono o geometría o manzana en el GeoDataFrame y lo asigna a una nueva columna. Aquí está el detalle de cada componente de esta línea:\n",
        "\n",
        "```python\n",
        "censo_df_mini.loc[:, 'centroid'] = censo_df_mini['geometry'].centroid\n",
        "```\n",
        "\n",
        "#### Funcionalidad General\n",
        "\n",
        "- **`censo_df_mini['geometry'].centroid`**: Este fragmento del código utiliza el atributo `.centroid` de GeoPandas, que se aplica a la columna `'geometry'` de `censo_df_mini`. Cada entrada en la columna `'geometry'` representa una geometría (en este caso polígonos para manzanas censales). El método `.centroid` calcula el punto central o centroide de cada una de estas geometrías.\n",
        "- **`censo_df_mini.loc[:, 'centroid']`**: Este fragmento es responsable de asignar los valores de los centroides calculados a una nueva columna en el GeoDataFrame llamada `'centroid'`.\n",
        "  - **`censo_df_mini.loc[:, 'centroid']`** desglosado:\n",
        "    - **`.loc[]`**: Es un accesor utilizado para acceder a un grupo de filas y columnas por etiquetas o una matriz booleana en Pandas. Aquí se usa para asignar datos a una columna específica.\n",
        "    - **`:`**: Significa \"seleccionar todas las filas\".\n",
        "    - **`'centroid'`**: Especifica el nombre de la columna a la cual se le asignarán los valores calculados.\n",
        "\n",
        "#### Explicación del Proceso\n",
        "\n",
        "1. **Cálculo del Centroide**: Para cada fila en `censo_df_mini`, se calcula el centroide de la geometría correspondiente. Un centroide es el punto geométrico que representa el centro promedio (en términos de coordenadas) de la forma de la geometría. Es importante para análisis que requieren un punto representativo de la geometría para simplificar cálculos posteriores.\n",
        "  \n",
        "2. **Asignación del Centroide**: Los centroides calculados se asignan a la columna `'centroid'` del DataFrame. Si la columna no existe previamente, se crea.\n",
        "\n",
        "#### Utilidad Práctica\n",
        "\n",
        "El cálculo de centroides y su almacenamiento en el GeoDataFrame permite realizar análisis geoespaciales más complejos y específicos, como:\n",
        "- Visualización de puntos representativos en lugar de áreas completas para simplificar mapas.\n",
        "- Cálculos de distancias desde o hacia el centro de áreas geográficas.\n",
        "- Análisis de proximidad, donde se necesitan puntos en lugar de formas para determinar la cercanía entre diferentes entidades geográficas.\n",
        "- Agrupación de valores dentro de una malla.\n"
      ],
      "metadata": {
        "id": "V_JzNR-mYQq5"
      }
    },
    {
      "cell_type": "code",
      "source": [
        "censo_df_mini.loc[:, 'centroid'] = censo_df_mini['geometry'].centroid"
      ],
      "metadata": {
        "id": "mdr1-B1H8GnK"
      },
      "execution_count": null,
      "outputs": []
    },
    {
      "cell_type": "code",
      "source": [
        "censo_df_mini"
      ],
      "metadata": {
        "id": "tl4I3oMe8e__"
      },
      "execution_count": null,
      "outputs": []
    },
    {
      "cell_type": "markdown",
      "source": [
        "### Explicación de la Línea de Código para Crear una Rejilla o Grid Basada en un GeoDataFrame\n",
        "\n",
        "La siguiente línea de código utiliza una función para generar una rejilla o grid a partir de un conjunto de datos geográficos contenidos en un `GeoDataFrame`. Vamos a desglosar esta línea para entender mejor su funcionalidad y propósito:\n",
        "\n",
        "```python\n",
        "grid = ghg.make_grid_from_gdf(censo_df_mini, R=250)\n",
        "```\n",
        "\n",
        "#### Componentes de la Línea\n",
        "\n",
        "- **`ghg.make_grid_from_gdf()`**: Esta función pertenece a la librería `geohexgrid` (indicada por el alias `ghg`), que se especializa en operaciones y manipulaciones de datos geográficos que involucran la creación y gestión de rejillas o grids hexagonales o de otros tipos.\n",
        "  \n",
        "- **`censo_df_mini`**: Es el `GeoDataFrame` que contiene datos geográficos. Este `GeoDataFrame` es el argumento principal de la función y proporciona la base geográfica sobre la cual se construirá la rejilla.\n",
        "\n",
        "- **`R=250`**: Es un argumento de la función que define el parámetro de resolución o tamaño de las celdas de la rejilla. En este contexto, `R` representa el radio (en metros) de cada celda de la rejilla. Este valor ajusta qué tan grande o pequeña será cada celda en la rejilla creada.\n",
        "\n",
        "#### Funcionalidad y Propósito\n",
        "\n",
        "La función `make_grid_from_gdf()` genera una rejilla basada en las características geográficas contenidas en el `GeoDataFrame` proporcionado. Aquí algunos puntos claves sobre su utilidad y operación:\n",
        "\n",
        "1. **Generación de Rejillas**: La función calcula y genera una rejilla que cubre toda el área representada en el `GeoDataFrame`. Cada celda de la rejilla tiene una forma y tamaño definido por el parámetro `R`.\n",
        "\n",
        "2. **Aplicaciones Prácticas**:\n",
        "   - **Análisis Espacial**: Las rejillas son útiles para realizar análisis espaciales que requieren una regularización del espacio geográfico, como estudios de densidad de población, distribución de recursos, o análisis de accesibilidad.\n",
        "   - **Modelado Ambiental y Urbano**: En modelado ambiental, las rejillas permiten simular fenómenos que varían en el espacio de manera más manejable y computacionalmente eficiente.\n",
        "   - **Visualización de Datos**: Las rejillas pueden ayudar a visualizar datos geográficos de manera que sea más fácil identificar patrones y tendencias.\n",
        "\n",
        "3. **Implementación en GIS y Ciencia de Datos**: Este tipo de herramientas es comúnmente utilizada en sistemas de información geográfica (GIS) y ciencia de datos para estructurar y simplificar el análisis espacial y la visualización."
      ],
      "metadata": {
        "id": "IcymOj3JZc-e"
      }
    },
    {
      "cell_type": "code",
      "source": [
        "grid = ghg.make_grid_from_gdf(censo_df_mini, R=250)"
      ],
      "metadata": {
        "id": "6-4NjCEb87p8"
      },
      "execution_count": null,
      "outputs": []
    },
    {
      "cell_type": "code",
      "source": [
        "grid.to_file(\"./inegi/mgccpv/shp/hex_grid_250km.shp\")"
      ],
      "metadata": {
        "id": "VqX7OeKy9RM4"
      },
      "execution_count": null,
      "outputs": []
    },
    {
      "cell_type": "markdown",
      "source": [
        "### Explicación Detallada del Código para Ajustar la Geometría de un DataFrame y Realizar una Unión Espacial\n",
        "\n",
        "El fragmento de código que has proporcionado continúa con el procesamiento de datos geográficos utilizando `GeoDataFrame` para realizar una unión espacial entre una rejilla hexagonal y datos censales basados en centroides. A continuación, se explica cada parte del código:\n",
        "\n",
        "#### Establecimiento de la Geometría del `GeoDataFrame`\n",
        "\n",
        "```python\n",
        "censo_df_centroide = censo_df_mini.set_geometry('centroid')\n",
        "```\n",
        "\n",
        "- **`set_geometry('centroid')`**: Esta función de GeoPandas es utilizada para establecer una nueva columna geométrica en el `GeoDataFrame`. En este caso, la columna `'centroid'` que se calculó previamente y contiene los centroides de las geometrías originales, se establece como la nueva columna de geometría del `GeoDataFrame`.\n",
        "- **`censo_df_centroide`**: Es el nuevo `GeoDataFrame` resultante de cambiar la columna de geometría. Este `GeoDataFrame` tiene ahora centroides como sus geometrías activas, lo que es útil para realizar análisis y operaciones que requieren puntos en lugar de áreas o polígonos.\n",
        "\n",
        "#### Realización de una Unión Espacial\n",
        "\n",
        "```python\n",
        "hex_counts = gpd.sjoin(grid, censo_df_centroide, how=\"left\", predicate='contains')\n",
        "```\n",
        "\n",
        "- **`gpd.sjoin()`**: Es una función de GeoPandas que realiza una \"unión espacial\" entre dos `GeoDataFrame`. Esta función es muy utilizada para combinar datos espaciales basados en sus relaciones espaciales.\n",
        "- **`grid, censo_df_centroide`**: Son los dos `GeoDataFrame` que se están uniendo. `grid` es un `GeoDataFrame` que contiene la rejilla hexagonal, mientras que `censo_df_centroide` contiene datos censales de las manzanas con centroides como sus geometrías.\n",
        "- **`how=\"left\"`**: Indica el tipo de unión. Una unión tipo \"left\" significa que todos los registros del `GeoDataFrame` `grid` serán retenidos, y las columnas del `GeoDataFrame` `censo_df_centroide` serán añadidas donde se cumplan las condiciones espaciales especificadas.\n",
        "- **`predicate='contains'`**: Especifica la relación espacial utilizada para la unión. En este caso, 'contains' significa que un registro de `grid` será combinado con un registro de `censo_df_centroide` si el centroide (punto) está contenido dentro del hexágono correspondiente de la rejilla.\n",
        "\n",
        "### Resultado y Utilidad\n",
        "\n",
        "- **`hex_counts`**: Es el `GeoDataFrame` resultante de la unión espacial. Contiene los datos combinados de ambos `GeoDataFrame`, donde cada hexágono de la rejilla ahora tiene asociada la información censal del punto (centroide) que contiene, si es que contiene alguno.\n",
        "- **Utilidad**: Este enfoque permite análisis donde se necesita evaluar o visualizar información censal distribuida a través de una rejilla uniforme, lo que contribuye a estudios de distribución geográfica, planificación urbana, y análisis ambientales, donde la representación uniforme y estructurada del espacio es beneficiosa."
      ],
      "metadata": {
        "id": "rrsOGH1bbalb"
      }
    },
    {
      "cell_type": "code",
      "source": [
        "censo_df_centroide = censo_df_mini.set_geometry('centroid')\n",
        "hex_counts = gpd.sjoin(grid, censo_df_centroide, how=\"left\", predicate='contains')"
      ],
      "metadata": {
        "id": "2f4QQ8nq9SJD"
      },
      "execution_count": null,
      "outputs": []
    },
    {
      "cell_type": "code",
      "source": [
        "hex_counts"
      ],
      "metadata": {
        "id": "6T9-GKVbYODO"
      },
      "execution_count": null,
      "outputs": []
    },
    {
      "cell_type": "markdown",
      "source": [
        "### Explicación del Código para Agrupar y Agregar Datos en un DataFrame\n",
        "\n",
        "El fragmento de código realiza operaciones de agrupación y agregación sobre un `GeoDataFrame` que contiene datos asociados a cada celda de una rejilla hexagonal. Aquí se explica cada parte del código para entender su funcionamiento y propósito:\n",
        "\n",
        "#### Agrupación de Datos por `cell_id`\n",
        "\n",
        "```python\n",
        "hex_grouped = hex_counts.groupby(\"cell_id\").agg(\n",
        "    PoblacionTotal=(\"PoblacionTotal\", \"sum\"),\n",
        "    ViviendasInternet=(\"ViviendasInternet\", \"sum\"),\n",
        "    ViviendasConsola=(\"ViviendasConsola\", \"sum\"),\n",
        "    ViviendasStreaming=(\"ViviendasStreaming\", \"sum\")\n",
        ")\n",
        "```\n",
        "\n",
        "- **`groupby(\"cell_id\")`**: Esta función de Pandas agrupa el DataFrame `hex_counts` por la columna `\"cell_id\"`, que identifica cada celda hexagonal de la rejilla. Cada `cell_id` representa un hexágono único en la rejilla, y la agrupación permite realizar cálculos específicos para los datos contenidos en cada hexágono.\n",
        "\n",
        "#### Función de Agregación\n",
        "\n",
        "- **`.agg()`**: Es una función de agregación que se aplica a los grupos formados por `groupby()`. Permite realizar varias operaciones de agregación en una sola llamada de función, especificando qué columnas se deben agregar y cómo.\n",
        "\n",
        "- **Argumentos de `agg()`**:\n",
        "  - **`PoblacionTotal=(\"PoblacionTotal\", \"sum\")`**: Agrega los valores de la columna `\"PoblacionTotal\"` dentro de cada grupo, sumando las poblaciones totales reportadas en cada hexágono. El resultado es una suma total de la población por `cell_id`.\n",
        "  - **`ViviendasInternet=(\"ViviendasInternet\", \"sum\")`**: Similarmente, suma el número de viviendas con acceso a internet en cada hexágono.\n",
        "  - **`ViviendasConsola=(\"ViviendasConsola\", \"sum\")`**: Suma el número de viviendas que tienen consola de videojuegos en cada hexágono.\n",
        "  - **`ViviendasStreaming=(\"ViviendasStreaming\", \"sum\")`**: Suma el número de viviendas que tienen acceso a servicios de streaming.\n",
        "\n",
        "### Utilidad y Resultado\n",
        "\n",
        "- **`hex_grouped`**: Es el nuevo DataFrame resultante de la agrupación y agregación. Contiene una fila por cada `cell_id` con las sumas totales de las variables de interés (población, viviendas con internet, consolas y streaming) para cada hexágono."
      ],
      "metadata": {
        "id": "sDoOICBCcQK0"
      }
    },
    {
      "cell_type": "code",
      "source": [
        "hex_grouped = hex_counts.groupby(\"cell_id\").agg(\n",
        "    PoblacionTotal=(\"PoblacionTotal\", \"sum\"),\n",
        "    ViviendasInternet=(\"ViviendasInternet\", \"sum\"),\n",
        "    ViviendasConsola=(\"ViviendasConsola\", \"sum\"),\n",
        "    ViviendasStreaming=(\"ViviendasStreaming\", \"sum\")\n",
        ")\n"
      ],
      "metadata": {
        "id": "r9_pOX4BWC2K"
      },
      "execution_count": null,
      "outputs": []
    },
    {
      "cell_type": "code",
      "source": [
        "hex_grouped"
      ],
      "metadata": {
        "id": "33JU4NLMWrcj"
      },
      "execution_count": null,
      "outputs": []
    },
    {
      "cell_type": "markdown",
      "source": [
        "### Explicación del Código para Restablecer el Índice y Fusionar DataFrames\n",
        "\n",
        "Este bloque de código manipula y combina datos espaciales de una manera que facilita el análisis posterior y la visualización de información agregada por celdas hexagonales. A continuación, se desglosa cada línea para entender completamente su funcionalidad y propósito:\n",
        "\n",
        "#### Restablecimiento del Índice en `hex_grouped`\n",
        "\n",
        "```python\n",
        "hex_grouped.reset_index(inplace=True)\n",
        "```\n",
        "\n",
        "- **`reset_index()`**: Esta función de Pandas se utiliza para restablecer el índice de un DataFrame. En el contexto de `hex_grouped`, que tiene `cell_id` como su índice debido a la operación `groupby()` anterior, `reset_index()` convierte el índice en una columna regular y establece un nuevo índice numérico secuencial.\n",
        "- **`inplace=True`**: Este argumento especifica que la modificación del DataFrame debe realizarse en el lugar, es decir, no se crea un nuevo DataFrame; en su lugar, se modifica `hex_grouped` directamente.\n",
        "\n",
        "#### Fusión de `grid` con `hex_grouped`\n",
        "\n",
        "```python\n",
        "hex_final = grid.merge(hex_grouped, left_on='cell_id', right_on='cell_id', how='left')\n",
        "```\n",
        "\n",
        "- **`grid.merge()`**: Esta función de Pandas (y por extensión de GeoPandas, ya que `grid` puede ser un `GeoDataFrame`) se utiliza para combinar dos DataFrames. Aquí, `grid` se fusiona con `hex_grouped`.\n",
        "- **`left_on='cell_id', right_on='cell_id'`**: Estos argumentos especifican las columnas en `grid` y `hex_grouped`, respectivamente, que se usarán para realizar la fusión. Como ambas tablas tienen una columna llamada `'cell_id'`, que actúa como clave de fusión, se usan para alinear las filas de ambos DataFrames.\n",
        "- **`how='left'`**: Este argumento define el tipo de fusión a realizar. Un `left` join significa que todas las filas del DataFrame `grid` se mantendrán, independientemente de si tienen una coincidencia en `hex_grouped`. Si no hay coincidencia, las columnas de `hex_grouped` tendrán valores `NaN` en el resultado final para esas filas.\n",
        "\n",
        "### Utilidad y Resultado\n",
        "\n",
        "- **`hex_final`**: Es el `GeoDataFrame` resultante de la fusión. Contiene la geometría de `grid` y los datos agregados de `hex_grouped`. Cada fila representa una celda hexagonal con su geometría correspondiente y los valores agregados como población total, número de viviendas con internet, consolas, y servicios de streaming."
      ],
      "metadata": {
        "id": "FVvwCgP4dTbZ"
      }
    },
    {
      "cell_type": "code",
      "source": [
        "hex_grouped.reset_index(inplace=True)\n",
        "hex_final = grid.merge(hex_grouped, left_on='cell_id', right_on='cell_id', how='left')\n"
      ],
      "metadata": {
        "id": "chndOSk5Wy_8"
      },
      "execution_count": null,
      "outputs": []
    },
    {
      "cell_type": "code",
      "source": [
        "hex_final.to_file(\"./inegi/mgccpv/shp/hex_data.shp\")"
      ],
      "metadata": {
        "id": "JrapFYPBZKrE"
      },
      "execution_count": null,
      "outputs": []
    },
    {
      "cell_type": "markdown",
      "source": [
        "### Explicación del Código para Visualizar un Mapa de Densidad Poblacional con una Barra de Colores\n",
        "\n",
        "El bloque de código está diseñado para visualizar la distribución de la población total a través de una serie de celdas hexagonales de 250 m de rádio en un mapa, utilizando la librería `matplotlib` en conjunto con `geopandas`. Vamos a descomponer el código y explicar cada parte:\n",
        "\n",
        "#### Definición de Variables para la Visualización\n",
        "\n",
        "```python\n",
        "variable = 'PoblacionTotal'\n",
        "cmap = 'turbo'\n",
        "```\n",
        "\n",
        "- **`variable`**: Define el nombre de la columna en el `DataFrame` `hex_final` que se desea visualizar en el mapa. En este caso, 'PoblacionTotal' se refiere a la columna que contiene la suma total de la población por cada hexágono.\n",
        "- **`cmap`**: Especifica el mapa de colores (colormap) que se usará para la visualización. El colormap 'turbo', introducido por Google (https://research.google/blog/turbo-an-improved-rainbow-colormap-for-visualization/), es conocido por su rango vibrante de colores, que ayuda a distinguir los valores con alta precisión visual.\n",
        "\n",
        "#### Creación de la Figura y el Eje con Matplotlib\n",
        "\n",
        "```python\n",
        "fig, ax = plt.subplots(1, 1, figsize=(10, 10))\n",
        "```\n",
        "\n",
        "- **`plt.subplots()`**: Esta función crea una nueva figura y un conjunto de subtramas. En este caso, solo se crea una subtrama (`1, 1`) con un tamaño de figura de 10x10 pulgadas.\n",
        "- **`fig`**: Representa la figura completa de `matplotlib`.\n",
        "- **`ax`**: Representa los ejes de la subtrama que contendrá el mapa.\n",
        "\n",
        "#### Dibujando el Mapa\n",
        "\n",
        "```python\n",
        "hex_final.plot(column=variable, cmap=cmap, linewidth=0.8, ax=ax, edgecolor='0.8')\n",
        "```\n",
        "\n",
        "- **`hex_final.plot()`**: Este es un método de GeoPandas que extiende las capacidades de plot de `matplotlib` para dibujar objetos geográficos. `hex_final` es el `GeoDataFrame` que contiene la geometría de las celdas hexagonales y los datos agregados.\n",
        "- **`column=variable`**: Indica la columna cuyos valores determinarán el color de cada hexágono en el mapa.\n",
        "- **`cmap=cmap`**: Se aplica el mapa de colores definido previamente para codificar los valores de la variable.\n",
        "- **`linewidth=0.8`**: Define el ancho de las líneas que delimitan cada hexágono.\n",
        "- **`ax=ax`**: Especifica que la visualización se dibujará en los ejes definidos anteriormente.\n",
        "- **`edgecolor='0.8'`**: Define el color de las líneas del borde de los hexágonos.\n",
        "\n",
        "#### Adición de una Barra de Colores\n",
        "\n",
        "```python\n",
        "sm = plt.cm.ScalarMappable(cmap=cmap, norm=plt.Normalize(vmin=hex_final[variable].min(), vmax=hex_final[variable].max()))\n",
        "sm._A = []  # Esto es solo para evitar un warning al usar matplotlib 3.1.\n",
        "cbar = fig.colorbar(sm, ax=ax)\n",
        "```\n",
        "\n",
        "- **`plt.cm.ScalarMappable`**: Es una clase en `matplotlib` que se utiliza para mapear los valores escalares a colores en un mapa de colores. Esto es necesario para crear la barra de colores que acompaña al mapa.\n",
        "- **`plt.Normalize`**: Normaliza los valores de la variable de interés entre los valores mínimos y máximos para el correcto mapeo de colores.\n",
        "- **`sm._A = []`**: Este es un truco utilizado para evitar un warning específico en algunas versiones de `matplotlib`.\n",
        "- **`fig.colorbar(sm, ax=ax)`**: Agrega una barra de colores a la figura, que proporciona información sobre cómo se mapean los valores de la variable a los colores en el mapa.\n",
        "\n",
        "#### Mostrando el Mapa\n",
        "\n",
        "```python\n",
        "plt.show()\n",
        "```\n",
        "\n",
        "- **`plt.show()`**: Esta función de `matplotlib` se utiliza para mostrar la figura. Cuando se ejecuta este código en un entorno que\n",
        "\n",
        "soporta visualización gráfica, como Jupyter notebooks o scripts de Python con acceso a una interfaz gráfica, resulta en la visualización del mapa generado.\n",
        "\n",
        "#### Interpretación del Mapa\n",
        "El mapa resultante es una representación gráfica que muestra cómo se distribuye la población total a lo largo del área geográfica cubierta por la rejilla hexagonal. Cada hexágono está coloreado de acuerdo con la población total que representa, basado en el mapa de colores 'turbo'. La barra de colores al lado del mapa proporciona una referencia visual para interpretar qué población representa cada color en el mapa."
      ],
      "metadata": {
        "id": "9OZzA9BseKKz"
      }
    },
    {
      "cell_type": "code",
      "source": [
        "variable = 'PoblacionTotal'\n",
        "cmap = 'turbo'\n",
        "fig, ax = plt.subplots(1, 1, figsize=(10, 10))\n",
        "# Dibuja el mapa.\n",
        "hex_final.plot(column=variable, cmap=cmap, linewidth=0.8, ax=ax, edgecolor='0.8')\n",
        "\n",
        "# Agrega una barra de colores.\n",
        "sm = plt.cm.ScalarMappable(cmap=cmap, norm=plt.Normalize(vmin=hex_final[variable].min(), vmax=hex_final[variable].max()))\n",
        "sm._A = []  # Esto es solo para evitar un warning al usar matplotlib 3.1.\n",
        "cbar = fig.colorbar(sm, ax=ax)\n",
        "\n",
        "# Muestra el mapa.\n",
        "plt.show()"
      ],
      "metadata": {
        "id": "hLmXQYX3ZPRY"
      },
      "execution_count": null,
      "outputs": []
    },
    {
      "cell_type": "code",
      "source": [
        "hex_final"
      ],
      "metadata": {
        "id": "P-jcapayeRVQ"
      },
      "execution_count": null,
      "outputs": []
    },
    {
      "cell_type": "markdown",
      "source": [
        "### Explicación del código para Visualizar Datos Espaciales con Folium\n",
        "\n",
        "Este bloque de código muestra cómo visualizar datos espaciales usando `GeoPandas` y `Folium`, que es una biblioteca para la creación de mapas interactivos:\n",
        "\n",
        "#### Lectura del Archivo Shapefile\n",
        "\n",
        "```python\n",
        "hex_final = gpd.read_file(\"./inegi/mgccpv/shp/hex_data.shp\")\n",
        "```\n",
        "\n",
        "- Se carga un conjunto de datos geoespaciales desde un archivo shapefile usando `GeoPandas`. El archivo contiene datos en un formato que representa geometrías en una rejilla hexagonal.\n",
        "\n",
        "#### Configuración de la Variable de Interés\n",
        "\n",
        "```python\n",
        "variable = 'PoblacionT'\n",
        "```\n",
        "\n",
        "- Se define una variable que identifica la columna de interés dentro del `GeoDataFrame` `hex_final`. Aquí se abrevia debido a la limitación de 10 carácteres a nombres de variables del formato shapefile, refiriéndose a la población total.\n",
        "\n",
        "#### Establecimiento y Transformación del Sistema de Referencia de Coordenadas (CRS)\n",
        "\n",
        "```python\n",
        "hex_final.crs = \"EPSG:6372\"\n",
        "hex_final = hex_final.to_crs(epsg=4326)\n",
        "```\n",
        "\n",
        "- Se asegura que el `GeoDataFrame` `hex_final` tenga establecido el sistema de referencia de coordenadas correcto (`EPSG:6372`). Si no es el caso, se establece programáticamente.\n",
        "- Se transforma el sistema de coordenadas a `EPSG:4326`, que es el sistema de referencia común para mapas web y permite la integración con herramientas como Google Maps y Folium.\n",
        "\n",
        "#### Añadir Columna de Índice\n",
        "\n",
        "```python\n",
        "hex_final['index'] = hex_final.index.astype(str)\n",
        "```\n",
        "\n",
        "- Se añade una nueva columna `'index'` al `GeoDataFrame`, que será utilizada más adelante por Folium para vincular los datos con la geometría en el mapa (`key_on`).\n",
        "\n",
        "#### Conversión a Formato JSON\n",
        "\n",
        "```python\n",
        "gdf_json = hex_final.to_json()\n",
        "```\n",
        "\n",
        "- El `GeoDataFrame` se convierte a formato JSON, que es el formato requerido por Folium para leer los datos geoespaciales y representarlos en el mapa.\n",
        "\n",
        "#### Cálculo del Centro del Mapa\n",
        "\n",
        "```python\n",
        "centroid = hex_final.geometry.centroid\n",
        "avg_lat = centroid.y.mean()\n",
        "avg_lon = centroid.x.mean()\n",
        "```\n",
        "\n",
        "- Se calcula el centroide de todas las geometrías (los hexágonos) en `hex_final` para determinar el punto central del mapa. Esto asegura que el mapa estará centrado correctamente cuando se visualice.\n",
        "- `avg_lat` y `avg_lon` son las coordenadas promedio de latitud y longitud, respectivamente, que se utilizan para centrar el mapa de Folium.\n",
        "\n",
        "#### Creación del Mapa con Folium\n",
        "\n",
        "```python\n",
        "m = folium.Map(location=[avg_lat, avg_lon], zoom_start=13)\n",
        "```\n",
        "\n",
        "- Se crea un mapa de Folium centrado en las coordenadas calculadas con un nivel de zoom inicial.\n",
        "\n",
        "#### Adición de la Capa Choropleth\n",
        "\n",
        "```python\n",
        "folium.Choropleth(\n",
        "    geo_data=gdf_json,\n",
        "    name='choropleth',\n",
        "    data=hex_final,\n",
        "    columns=['index', variable],\n",
        "    key_on='feature.properties.index',\n",
        "    fill_color='YlGnBu',\n",
        "    fill_opacity=0.7,\n",
        "    line_opacity=0.2,\n",
        "    legend_name=variable\n",
        ").add_to(m)\n",
        "```\n",
        "\n",
        "- Se añade una capa Choropleth al mapa, que es una representación visual que utiliza diferentes tonalidades de color para representar la magnitud de la variable de interés (`'PoblacionT'`) en cada hexágono.\n",
        "- Se especifican las columnas que contienen los identificadores y los valores, la opacidad del relleno y de la línea, y el nombre de la leyenda.\n",
        "- El argumento `key_on` vincula los datos del `GeoDataFrame` con los hexágonos del mapa.\n",
        "\n",
        "#### Visualización del Mapa en el Notebook\n",
        "\n",
        "```python\n",
        "m\n",
        "```\n",
        "\n",
        "- Al final de la clase, se presenta el objeto de mapa `m`. En un entorno de Jupyter Notebook, esta línea mostraría el mapa interactivo directamente en el notebook."
      ],
      "metadata": {
        "id": "B0Wzm1GwgUzA"
      }
    },
    {
      "cell_type": "code",
      "source": [
        "hex_final = gpd.read_file(\"./inegi/mgccpv/shp/hex_data.shp\")\n",
        "variable = 'PoblacionT'\n",
        "\n",
        "# Asegúrate de que tu GeoDataFrame tenga el CRS correcto establecido si no lo tiene ya.\n",
        "hex_final.crs = \"EPSG:6372\"\n",
        "\n",
        "# Transforma la proyección a EPSG:4326 para uso en mapas web.\n",
        "hex_final = hex_final.to_crs(epsg=4326)\n",
        "\n",
        "# Añade una columna 'index' que será usada por Folium para el key_on en la capa Choropleth.\n",
        "hex_final['index'] = hex_final.index.astype(str)\n",
        "\n",
        "# Convertir el GeoDataFrame a formato JSON.\n",
        "gdf_json = hex_final.to_json()\n",
        "\n",
        "# Calcula el centro del mapa.\n",
        "centroid = hex_final.geometry.centroid\n",
        "avg_lat = centroid.y.mean()\n",
        "avg_lon = centroid.x.mean()\n",
        "\n",
        "# Crear el objeto de mapa de Folium.\n",
        "m = folium.Map(location=[avg_lat, avg_lon], zoom_start=13)\n",
        "\n",
        "# Agregar la capa Choropleth.\n",
        "folium.Choropleth(\n",
        "    geo_data=gdf_json,\n",
        "    name='choropleth',\n",
        "    data=hex_final,\n",
        "    columns=['index', variable],  # Usa 'index' porque ya lo hemos definido anteriormente\n",
        "    key_on='feature.properties.index',\n",
        "    fill_color='YlGnBu',  # Puedes cambiar esto para que coincida con la paleta de colores 'turbo' si lo deseas\n",
        "    fill_opacity=0.7,\n",
        "    line_opacity=0.2,\n",
        "    legend_name=variable\n",
        ").add_to(m)\n",
        "\n",
        "# Mostrar el mapa en el notebook.\n",
        "m\n",
        "\n"
      ],
      "metadata": {
        "id": "mUEuzBpiZUON"
      },
      "execution_count": null,
      "outputs": []
    },
    {
      "cell_type": "code",
      "source": [
        "hex_final"
      ],
      "metadata": {
        "id": "C_qP6lhxdiR0"
      },
      "execution_count": null,
      "outputs": []
    },
    {
      "cell_type": "code",
      "source": [],
      "metadata": {
        "id": "0KPWDM_ffXxP"
      },
      "execution_count": null,
      "outputs": []
    }
  ]
}