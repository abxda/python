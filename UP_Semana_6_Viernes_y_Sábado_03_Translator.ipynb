{
  "nbformat": 4,
  "nbformat_minor": 0,
  "metadata": {
    "colab": {
      "provenance": [],
      "gpuType": "T4",
      "authorship_tag": "ABX9TyN2qpPWC4nBs9BKQdrnjJQG",
      "include_colab_link": true
    },
    "kernelspec": {
      "name": "python3",
      "display_name": "Python 3"
    },
    "language_info": {
      "name": "python"
    },
    "accelerator": "GPU"
  },
  "cells": [
    {
      "cell_type": "markdown",
      "metadata": {
        "id": "view-in-github",
        "colab_type": "text"
      },
      "source": [
        "<a href=\"https://colab.research.google.com/github/abxda/python/blob/main/UP_Semana_6_Viernes_y_S%C3%A1bado_03_Translator.ipynb\" target=\"_parent\"><img src=\"https://colab.research.google.com/assets/colab-badge.svg\" alt=\"Open In Colab\"/></a>"
      ]
    },
    {
      "cell_type": "code",
      "execution_count": null,
      "metadata": {
        "id": "eo6ly0KIqpwX"
      },
      "outputs": [],
      "source": [
        "!pip install transformers"
      ]
    },
    {
      "cell_type": "code",
      "source": [
        "from transformers import AutoProcessor, SeamlessM4Tv2ForTextToText\n",
        "\n",
        "# Cargar el modelo y el procesador\n",
        "model_name = \"facebook/seamless-m4t-v2-large\"\n",
        "processor = AutoProcessor.from_pretrained(model_name)\n",
        "model = SeamlessM4Tv2ForTextToText.from_pretrained(\"facebook/seamless-m4t-v2-large\")\n"
      ],
      "metadata": {
        "id": "yqjskBXftnPc"
      },
      "execution_count": null,
      "outputs": []
    },
    {
      "cell_type": "code",
      "source": [
        "def translate(text, src_lang, tgt_lang, model, processor):\n",
        "    # Preparar el texto para la traducción\n",
        "    text_inputs = processor(text=text, src_lang=src_lang, return_tensors=\"pt\")\n",
        "\n",
        "    decoder_input_ids = model.generate(**text_inputs, tgt_lang=tgt_lang)[0].tolist()\n",
        "    translated_text = processor.decode(decoder_input_ids, skip_special_tokens=True)\n",
        "\n",
        "    return translated_text"
      ],
      "metadata": {
        "id": "wqsvY1fvqrjk"
      },
      "execution_count": null,
      "outputs": []
    },
    {
      "cell_type": "code",
      "source": [
        "# Ejemplo de uso src_lang, tgt_lang = \"spa\", \"eng\"\n",
        "texto_espanol = \"¿Me puedes dar un resumen de las noticias mas relavantes en economía?\"\n",
        "texto_ingles = translate(texto_espanol, src_lang=\"spa\", tgt_lang=\"eng\", model=model, processor=processor)\n",
        "print(texto_ingles)"
      ],
      "metadata": {
        "id": "e_6uPM4rrfd9"
      },
      "execution_count": null,
      "outputs": []
    },
    {
      "cell_type": "code",
      "source": [
        "#https://huggingface.co/facebook/seamless-m4t-v2-large"
      ],
      "metadata": {
        "id": "7UlmfL7Isktq"
      },
      "execution_count": null,
      "outputs": []
    }
  ]
}