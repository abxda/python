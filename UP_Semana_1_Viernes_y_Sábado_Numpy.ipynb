{
  "nbformat": 4,
  "nbformat_minor": 0,
  "metadata": {
    "colab": {
      "provenance": [],
      "authorship_tag": "ABX9TyOxRUE2gp18zyICkqVcfVcD",
      "include_colab_link": true
    },
    "kernelspec": {
      "name": "python3",
      "display_name": "Python 3"
    },
    "language_info": {
      "name": "python"
    }
  },
  "cells": [
    {
      "cell_type": "markdown",
      "metadata": {
        "id": "view-in-github",
        "colab_type": "text"
      },
      "source": [
        "<a href=\"https://colab.research.google.com/github/abxda/python/blob/main/UP_Semana_1_Viernes_y_S%C3%A1bado_Numpy.ipynb\" target=\"_parent\"><img src=\"https://colab.research.google.com/assets/colab-badge.svg\" alt=\"Open In Colab\"/></a>"
      ]
    },
    {
      "cell_type": "code",
      "source": [
        "!pip install numpy"
      ],
      "metadata": {
        "id": "iO7GdwvgIAHs"
      },
      "execution_count": null,
      "outputs": []
    },
    {
      "cell_type": "code",
      "source": [
        "import numpy as np\n",
        "\n",
        "# Creando un array NumPy\n",
        "array_np = np.array([1, 2, 3, 4, 5])\n",
        "print(array_np)"
      ],
      "metadata": {
        "id": "anPIpMN_AQay"
      },
      "execution_count": null,
      "outputs": []
    },
    {
      "cell_type": "code",
      "source": [
        "print([1, 2, \"tres\", 4, 5])"
      ],
      "metadata": {
        "id": "_7gocx-2JqjF"
      },
      "execution_count": null,
      "outputs": []
    },
    {
      "cell_type": "code",
      "source": [
        "array_np + 2"
      ],
      "metadata": {
        "id": "7Jsalll5KSp5"
      },
      "execution_count": null,
      "outputs": []
    },
    {
      "cell_type": "code",
      "source": [
        "type(array_np)"
      ],
      "metadata": {
        "id": "JSB0RvAZJUIS"
      },
      "execution_count": null,
      "outputs": []
    },
    {
      "cell_type": "code",
      "source": [
        "array_from_tuple = np.array((1, 2, 3, 4, 5))\n",
        "print(array_from_tuple)"
      ],
      "metadata": {
        "id": "nRZC6fOXGiRt"
      },
      "execution_count": null,
      "outputs": []
    },
    {
      "cell_type": "code",
      "source": [
        "# Lista de Python\n",
        "lista_py = [1, 2, 3, 4, 5]"
      ],
      "metadata": {
        "id": "JexNZibwBgOn"
      },
      "execution_count": null,
      "outputs": []
    },
    {
      "cell_type": "code",
      "source": [
        "array_int32 = np.array([1, 2, 3, -4, -5], dtype=np.int32)\n",
        "array_int64 = np.array([1, 2, 3, -4, -5], dtype=np.int64)"
      ],
      "metadata": {
        "id": "SKK3ImQJDZQv"
      },
      "execution_count": null,
      "outputs": []
    },
    {
      "cell_type": "code",
      "source": [
        "array_int32"
      ],
      "metadata": {
        "id": "F-dEriN6IMw4"
      },
      "execution_count": null,
      "outputs": []
    },
    {
      "cell_type": "code",
      "source": [
        "array_int64"
      ],
      "metadata": {
        "id": "3zHRbH8MIOX9"
      },
      "execution_count": null,
      "outputs": []
    },
    {
      "cell_type": "code",
      "source": [
        "# Calcular el tamaño en memoria\n",
        "tamaño_int32 = array_int32.nbytes\n",
        "tamaño_int64 = array_int64.nbytes\n",
        "\n",
        "print(f\"El tamaño de memoria de array_int32 es: {tamaño_int32} bytes\")\n",
        "print(f\"El tamaño de memoria de array_int64 es: {tamaño_int64} bytes\")"
      ],
      "metadata": {
        "id": "7HgteU4cIPn6"
      },
      "execution_count": null,
      "outputs": []
    },
    {
      "cell_type": "code",
      "source": [
        "array_float32 = np.array([1.5, 2.5, 3.5, -4.5], dtype=np.float32)\n",
        "array_float64 = np.array([1.5, 2.5, 3.5, -4.5], dtype=np.float64)\n",
        "# Calcular el tamaño en memoria\n",
        "tamaño_float32 = array_float32.nbytes\n",
        "tamaño_float64 = array_float64.nbytes\n",
        "\n",
        "print(f\"El tamaño de memoria de array_float32 es: {tamaño_float32} bytes\")\n",
        "print(f\"El tamaño de memoria de array_float64 es: {tamaño_float64} bytes\")"
      ],
      "metadata": {
        "id": "WSXvL2wDIzGJ"
      },
      "execution_count": null,
      "outputs": []
    },
    {
      "cell_type": "code",
      "source": [],
      "metadata": {
        "id": "k3S1MN-TQ-X9"
      },
      "execution_count": null,
      "outputs": []
    },
    {
      "cell_type": "code",
      "source": [
        "array_string = np.array([\"apples\", \"bananas\", \"cherry\"], dtype=np.bytes_)\n",
        "tamaño_string = array_string.nbytes\n",
        "print(f\"El tamaño de memoria de array_string es: {tamaño_string} bytes\")"
      ],
      "metadata": {
        "id": "Iy09CE1aKebl"
      },
      "execution_count": null,
      "outputs": []
    },
    {
      "cell_type": "code",
      "source": [],
      "metadata": {
        "id": "lGryAweuaMXs"
      },
      "execution_count": null,
      "outputs": []
    },
    {
      "cell_type": "code",
      "source": [
        "array_string = np.array([\"apples\", \"bananas\", \"cherry\"], dtype=np.str_)\n",
        "tamaño_string = array_string.nbytes\n",
        "print(f\"El tamaño de memoria de array_string es: {tamaño_string} bytes\")"
      ],
      "metadata": {
        "id": "9ki385EcN6pE"
      },
      "execution_count": null,
      "outputs": []
    },
    {
      "cell_type": "code",
      "source": [
        "strings = np.array([\"Hola\", \"mundo\", \"esto\", \"es\", \"una\", \"prueba\"], dtype=np.bytes_)\n",
        "tamaño_string2 = strings.nbytes\n",
        "print(f\"El tamaño de memoria de array_string2 es: {tamaño_string2} bytes\")"
      ],
      "metadata": {
        "id": "ZboBWVipL5X1"
      },
      "execution_count": null,
      "outputs": []
    },
    {
      "cell_type": "code",
      "source": [
        "strings = np.array([\"Hola\", \"mundo\", \"esto\", \"es\", \"uña\", \"prueba\"], dtype=np.str_)\n",
        "tamaño_string2 = strings.nbytes\n",
        "print(f\"El tamaño de memoria de array_string2 es: {tamaño_string2} bytes\")"
      ],
      "metadata": {
        "id": "7M5w9qhDaPpM"
      },
      "execution_count": null,
      "outputs": []
    },
    {
      "cell_type": "code",
      "source": [
        "strings = np.array([\"Hola\", \"mundo\", \"esto\", \"es\", \"uña\", \"prueba\"], dtype=np.str_)\n",
        "tamaño_string2 = strings.nbytes\n",
        "print(f\"El tamaño de memoria de array_string2 es: {tamaño_string2} bytes\")"
      ],
      "metadata": {
        "id": "duQR1uWGNfFS"
      },
      "execution_count": null,
      "outputs": []
    },
    {
      "cell_type": "code",
      "source": [
        "# Crear un array de NumPy con emojis y especificar el tipo como unicode\n",
        "emojis_array = np.array([\"😀\", \"😂\", \"🤔\", \"😍\", \"🙄\", \"😎\"], dtype=np.str_)\n",
        "# Calcular el tamaño en memoria del array de emojis\n",
        "tamaño_emojis = emojis_array.nbytes\n",
        "# Imprimir el tamaño en memoria del array de emojis\n",
        "print(f\"El tamaño de memoria de emojis_array es: {tamaño_emojis} bytes\")"
      ],
      "metadata": {
        "id": "Z-Wz1DBjN1qL"
      },
      "execution_count": null,
      "outputs": []
    },
    {
      "cell_type": "code",
      "source": [
        "# Crear un array de NumPy con emojis y especificar el tipo como unicode\n",
        "emojis_array = np.array([\"😀\", \"😂\", \"🤔\", \"😍\", \"🙄\", \"😎\"], dtype=np.bytes_)\n",
        "# Calcular el tamaño en memoria del array de emojis\n",
        "tamaño_emojis = emojis_array.nbytes\n",
        "# Imprimir el tamaño en memoria del array de emojis\n",
        "print(f\"El tamaño de memoria de emojis_array es: {tamaño_emojis} bytes\")"
      ],
      "metadata": {
        "id": "7PhjTDJKug0U"
      },
      "execution_count": null,
      "outputs": []
    },
    {
      "cell_type": "code",
      "source": [
        "import numpy as np\n",
        "import time\n",
        "\n",
        "# Tamaño grande del conjunto de datos\n",
        "tamaño = 1000000\n",
        "\n",
        "inicio_numpy = time.time()\n",
        "array_np = np.arange(tamaño)\n",
        "array_np_modificado = array_np + 2\n",
        "fin_numpy = time.time()\n",
        "tiempo_numpy = fin_numpy - inicio_numpy\n",
        "print( f\"Operación con array de NumPy: Resultado {array_np_modificado[:10]}  Tiempo: {tiempo_numpy}\")"
      ],
      "metadata": {
        "id": "VsEAAnU6Rt_W",
        "colab": {
          "base_uri": "https://localhost:8080/"
        },
        "outputId": "0f6632c1-1870-4b03-ed60-3e15446ed116"
      },
      "execution_count": null,
      "outputs": [
        {
          "output_type": "stream",
          "name": "stdout",
          "text": [
            "Operación con array de NumPy: Resultado [ 2  3  4  5  6  7  8  9 10 11]  Tiempo: 0.010958194732666016\n"
          ]
        }
      ]
    },
    {
      "cell_type": "code",
      "source": [
        "import time\n",
        "\n",
        "# Definimos el tamaño de la lista\n",
        "tamaño = 1000000  # Por ejemplo, un millón de elementos\n",
        "inicio_lista = time.time()\n",
        "lista_py = list(range(tamaño))\n",
        "lista_py_modificada = []\n",
        "for x in lista_py:\n",
        "    lista_py_modificada.append(x + 2)\n",
        "fin_lista = time.time()\n",
        "tiempo_lista_for = fin_lista - inicio_lista\n",
        "print(f\"Operación con listas de Python: Resultado {lista_py_modificada[:10]} Tiempo: {tiempo_lista_for}\")\n",
        "\n"
      ],
      "metadata": {
        "id": "iCNXsDrOGIfj",
        "colab": {
          "base_uri": "https://localhost:8080/"
        },
        "outputId": "c41df1da-1041-4915-ca05-f215f7b1f88b"
      },
      "execution_count": null,
      "outputs": [
        {
          "output_type": "stream",
          "name": "stdout",
          "text": [
            "Operación con listas de Python: Resultado [2, 3, 4, 5, 6, 7, 8, 9, 10, 11] Tiempo: 0.19133543968200684\n"
          ]
        }
      ]
    },
    {
      "cell_type": "code",
      "source": [
        "inicio_lista = time.time()\n",
        "lista_py = list(range(tamaño))\n",
        "lista_py_modificada = [x + 2 for x in lista_py]\n",
        "fin_lista = time.time()\n",
        "tiempo_lista = fin_lista - inicio_lista\n",
        "print( f\"Operación con listas de Python: Resultado {lista_py_modificada[:10]}  Tiempo: {tiempo_lista}\")"
      ],
      "metadata": {
        "id": "BnoFj4Oe8_xM",
        "colab": {
          "base_uri": "https://localhost:8080/"
        },
        "outputId": "9cee49ff-8eb1-4406-bc45-6ff2127df4d1"
      },
      "execution_count": null,
      "outputs": [
        {
          "output_type": "stream",
          "name": "stdout",
          "text": [
            "Operación con listas de Python: Resultado [2, 3, 4, 5, 6, 7, 8, 9, 10, 11]  Tiempo: 0.11118960380554199\n"
          ]
        }
      ]
    },
    {
      "cell_type": "code",
      "source": [
        "tiempo_lista_for/tiempo_numpy"
      ],
      "metadata": {
        "id": "C0Tlu7589aje",
        "colab": {
          "base_uri": "https://localhost:8080/"
        },
        "outputId": "0079a666-ba2b-493e-b29e-775b28a1ccce"
      },
      "execution_count": null,
      "outputs": [
        {
          "output_type": "execute_result",
          "data": {
            "text/plain": [
              "17.46048909969105"
            ]
          },
          "metadata": {},
          "execution_count": 4
        }
      ]
    },
    {
      "cell_type": "code",
      "source": [
        "tiempo_lista/tiempo_numpy"
      ],
      "metadata": {
        "id": "58FoZ1kF_WRq",
        "colab": {
          "base_uri": "https://localhost:8080/"
        },
        "outputId": "c7b3eedc-d0b7-4bfc-e7af-be2228e0b48a"
      },
      "execution_count": null,
      "outputs": [
        {
          "output_type": "execute_result",
          "data": {
            "text/plain": [
              "10.146708150211044"
            ]
          },
          "metadata": {},
          "execution_count": 5
        }
      ]
    },
    {
      "cell_type": "code",
      "source": [
        "# Creación de un arreglo unidimensional para almacenar edades\n",
        "edades = np.array([20, 22, 25, 21, 19])\n",
        "\n",
        "# Impresión del arreglo de edades\n",
        "print(edades)"
      ],
      "metadata": {
        "id": "OpId0Obf_i3C",
        "colab": {
          "base_uri": "https://localhost:8080/"
        },
        "outputId": "d4f18d6e-5aee-4ec5-8f9c-6dc544d11a42"
      },
      "execution_count": null,
      "outputs": [
        {
          "output_type": "stream",
          "name": "stdout",
          "text": [
            "[20 22 25 21 19]\n"
          ]
        }
      ]
    },
    {
      "cell_type": "code",
      "source": [
        "edades.shape"
      ],
      "metadata": {
        "id": "NWVaO7ETsVl0",
        "colab": {
          "base_uri": "https://localhost:8080/"
        },
        "outputId": "b04772d4-2c25-42ed-b421-4972bb55bb35"
      },
      "execution_count": null,
      "outputs": [
        {
          "output_type": "execute_result",
          "data": {
            "text/plain": [
              "(5,)"
            ]
          },
          "metadata": {},
          "execution_count": 7
        }
      ]
    },
    {
      "cell_type": "code",
      "source": [
        "temperaturas = np.array([\n",
        "    [18, 20, 22, 24, 23, 21, 19],\n",
        "    [19, 21, 23, 25, 24, 22, 20],\n",
        "    [20, 22, 24, 26, 25, 23, 21],\n",
        "    [21, 23, 25, 27, 26, 24, 22],\n",
        "    [22, 24, 26, 28, 27, 25, 23],\n",
        "    [23, 25, 27, 29, 28, 26, 24],\n",
        "    [24, 26, 28, 30, 29, 27, 25],\n",
        "])\n",
        "\n",
        "# Impresión de la matriz de temperaturas\n",
        "print(temperaturas)"
      ],
      "metadata": {
        "id": "QYM4lVO7pfJ1",
        "colab": {
          "base_uri": "https://localhost:8080/"
        },
        "outputId": "d2d81689-6611-48e6-a8a9-a54f3d12c93b"
      },
      "execution_count": null,
      "outputs": [
        {
          "output_type": "stream",
          "name": "stdout",
          "text": [
            "[[18 20 22 24 23 21 19]\n",
            " [19 21 23 25 24 22 20]\n",
            " [20 22 24 26 25 23 21]\n",
            " [21 23 25 27 26 24 22]\n",
            " [22 24 26 28 27 25 23]\n",
            " [23 25 27 29 28 26 24]\n",
            " [24 26 28 30 29 27 25]]\n"
          ]
        }
      ]
    },
    {
      "cell_type": "code",
      "source": [
        "temperaturas.shape"
      ],
      "metadata": {
        "id": "Y2WYOUZDsZJs",
        "colab": {
          "base_uri": "https://localhost:8080/"
        },
        "outputId": "2d4bfcd9-a53f-4f3e-f442-84ee959cbea8"
      },
      "execution_count": null,
      "outputs": [
        {
          "output_type": "execute_result",
          "data": {
            "text/plain": [
              "(7, 7)"
            ]
          },
          "metadata": {},
          "execution_count": 9
        }
      ]
    },
    {
      "cell_type": "code",
      "source": [
        "# Supongamos que solo representamos los primeros 7 momentos del día para simplificar\n",
        "# Registro de temperaturas para varias ciudades a lo largo del año por momento del día\n",
        "temperaturas_pais = np.array([\n",
        "    [ # Ciudad 1\n",
        "        [18, 20, 22, 24, 23, 21, 19],\n",
        "        [19, 21, 23, 25, 24, 22, 20],\n",
        "        # ... (resto de días del año)\n",
        "    ],\n",
        "    [ # Ciudad 2\n",
        "        [20, 22, 24, 26, 25, 23, 21],\n",
        "        [21, 23, 25, 27, 26, 24, 22],\n",
        "        # ... (resto de días del año)\n",
        "    ],\n",
        "    # ... (resto de ciudades)\n",
        "])\n",
        "\n",
        "# La forma (shape) del arreglo nos da una idea de la estructura de los datos\n",
        "print(temperaturas_pais)"
      ],
      "metadata": {
        "id": "IOBXJ9xOseGf",
        "colab": {
          "base_uri": "https://localhost:8080/"
        },
        "outputId": "b1e2be8f-d5f8-4e63-852a-3fa93eb3a450"
      },
      "execution_count": null,
      "outputs": [
        {
          "output_type": "stream",
          "name": "stdout",
          "text": [
            "[[[18 20 22 24 23 21 19]\n",
            "  [19 21 23 25 24 22 20]]\n",
            "\n",
            " [[20 22 24 26 25 23 21]\n",
            "  [21 23 25 27 26 24 22]]]\n"
          ]
        }
      ]
    },
    {
      "cell_type": "code",
      "source": [
        "temperaturas_pais.shape"
      ],
      "metadata": {
        "id": "JuB-V46lseJI",
        "colab": {
          "base_uri": "https://localhost:8080/"
        },
        "outputId": "94d7a8d7-4664-46cc-aa3f-8c2c7ef362ee"
      },
      "execution_count": null,
      "outputs": [
        {
          "output_type": "execute_result",
          "data": {
            "text/plain": [
              "(2, 2, 7)"
            ]
          },
          "metadata": {},
          "execution_count": 11
        }
      ]
    },
    {
      "cell_type": "code",
      "source": [
        "import numpy as np\n",
        "\n",
        "# Creando dos arrays para demostración\n",
        "a = np.array([1, 2, 3])\n",
        "b = np.array([4, 5, 6])\n",
        "\n",
        "# Operaciones básicas\n",
        "suma = a + b\n",
        "resta = a - b\n",
        "multiplicacion = a * b\n",
        "division = a / b\n",
        "\n",
        "print(\"Suma:\", suma)\n",
        "print(\"Resta:\", resta)\n",
        "print(\"Multiplicación:\", multiplicacion)\n",
        "print(\"División:\", division)\n"
      ],
      "metadata": {
        "id": "APG-ycO-u9dW"
      },
      "execution_count": null,
      "outputs": []
    },
    {
      "cell_type": "code",
      "source": [
        "# Creando un array para demostración\n",
        "c = np.array([1, 2, 3, 4, 5, 6, 7, 8, 9])\n",
        "\n",
        "# Funciones estadísticas\n",
        "media = np.mean(c)\n",
        "mediana = np.median(c)\n",
        "varianza = np.var(c)\n",
        "desviacion_estandar = np.std(c)\n",
        "\n",
        "print(\"Media:\", media)\n",
        "print(\"Mediana:\", mediana)\n",
        "print(\"Varianza:\", varianza)\n",
        "print(\"Desviación Estándar:\", desviacion_estandar)\n"
      ],
      "metadata": {
        "id": "9HHbvoTnu9f-"
      },
      "execution_count": null,
      "outputs": []
    },
    {
      "cell_type": "code",
      "source": [
        "# 12 meses de datos en un array 1D\n",
        "datos = np.arange(1, 13)\n",
        "print(datos)\n",
        "print(datos.shape)\n",
        "# Reorganizar en una matriz 2D (1 año x 12 meses)\n",
        "datos_reshape = datos.reshape((1, 12))\n",
        "print(\"Datos reorganizados:\\n\", datos_reshape)\n",
        "print(datos_reshape.shape)"
      ],
      "metadata": {
        "id": "LzDONx2xu9it",
        "colab": {
          "base_uri": "https://localhost:8080/"
        },
        "outputId": "16e3226b-4b4e-47d4-e429-2e6a658a3e0c"
      },
      "execution_count": null,
      "outputs": [
        {
          "output_type": "stream",
          "name": "stdout",
          "text": [
            "[ 1  2  3  4  5  6  7  8  9 10 11 12]\n",
            "(12,)\n",
            "Datos reorganizados:\n",
            " [[ 1  2  3  4  5  6  7  8  9 10 11 12]]\n",
            "(1, 12)\n"
          ]
        }
      ]
    },
    {
      "cell_type": "code",
      "source": [],
      "metadata": {
        "id": "DhP51q2KrfJ0"
      },
      "execution_count": null,
      "outputs": []
    },
    {
      "cell_type": "code",
      "source": [
        "datos_reshape2 = datos.reshape((2, 3, 2))\n",
        "print(datos_reshape2)"
      ],
      "metadata": {
        "id": "sdJmfaXaIfLZ"
      },
      "execution_count": null,
      "outputs": []
    },
    {
      "cell_type": "code",
      "source": [
        "datos_reshape2.shape"
      ],
      "metadata": {
        "id": "GsN6moyLI97p"
      },
      "execution_count": null,
      "outputs": []
    },
    {
      "cell_type": "code",
      "source": [
        "datos.shape"
      ],
      "metadata": {
        "id": "E6mpoLTCu9lO"
      },
      "execution_count": null,
      "outputs": []
    },
    {
      "cell_type": "code",
      "source": [
        "datos_reshape.shape"
      ],
      "metadata": {
        "id": "xXXUOOHdu9nz"
      },
      "execution_count": null,
      "outputs": []
    },
    {
      "cell_type": "code",
      "source": [
        "# Redimensionar el array para incluir 2 años (replicando datos)\n",
        "datos_resized = np.resize(datos, (2, 12))\n",
        "print(\"Datos redimensionados:\\n\", datos_resized)\n"
      ],
      "metadata": {
        "id": "CEibco85yyfc"
      },
      "execution_count": null,
      "outputs": []
    },
    {
      "cell_type": "code",
      "source": [
        "datos_resized.shape"
      ],
      "metadata": {
        "id": "UnRoKYWhyymc"
      },
      "execution_count": null,
      "outputs": []
    },
    {
      "cell_type": "code",
      "source": [
        "# Concatenar dos arrays 1D\n",
        "array_a = np.array([1, 2, 3])\n",
        "array_b = np.array([4, 5, 6])\n",
        "array_concatenado = np.concatenate((array_a, array_b))\n",
        "print(\"Array concatenado:\", array_concatenado)\n",
        "\n",
        "# Dividir un array en 3 partes iguales\n",
        "array_dividido = np.split(array_concatenado, 3)\n",
        "print(\"Array dividido:\", array_dividido)\n"
      ],
      "metadata": {
        "id": "NhOIUOqly5Ws"
      },
      "execution_count": null,
      "outputs": []
    },
    {
      "cell_type": "code",
      "source": [
        "type(array_dividido)"
      ],
      "metadata": {
        "id": "QvygB7fjzEnt"
      },
      "execution_count": null,
      "outputs": []
    },
    {
      "cell_type": "code",
      "source": [
        "type(array_concatenado)"
      ],
      "metadata": {
        "id": "hMmdQcNPzO8r"
      },
      "execution_count": null,
      "outputs": []
    },
    {
      "cell_type": "code",
      "source": [
        "import numpy as np\n",
        "\n",
        "# Creamos un arreglo con NumPy\n",
        "arr = np.array([4, 7, 2])\n",
        "#      INDEX    0  1  2"
      ],
      "metadata": {
        "id": "izUK0gmUjLOp"
      },
      "execution_count": null,
      "outputs": []
    },
    {
      "cell_type": "code",
      "source": [
        "arr.shape"
      ],
      "metadata": {
        "id": "Iy3Vw7B_K9gf"
      },
      "execution_count": null,
      "outputs": []
    },
    {
      "cell_type": "code",
      "source": [
        "arr.ndim"
      ],
      "metadata": {
        "id": "xa93G_mZLAQn"
      },
      "execution_count": null,
      "outputs": []
    },
    {
      "cell_type": "code",
      "source": [
        "# Imprimimos el segundo elemento del arreglo\n",
        "print(arr[1])"
      ],
      "metadata": {
        "id": "qNNrr6aaK4_3"
      },
      "execution_count": null,
      "outputs": []
    },
    {
      "cell_type": "code",
      "source": [
        "arr = np.array([[2, 3, 4],\n",
        "                [1, 2, 5],\n",
        "                [3, 4, 3]])\n",
        "\n"
      ],
      "metadata": {
        "id": "g_c0g_SjjPF2"
      },
      "execution_count": null,
      "outputs": []
    },
    {
      "cell_type": "code",
      "source": [
        "arr.ndim"
      ],
      "metadata": {
        "id": "4ete0pFvL2Zs"
      },
      "execution_count": null,
      "outputs": []
    },
    {
      "cell_type": "code",
      "source": [
        "arr.shape"
      ],
      "metadata": {
        "id": "QOaeOK26L2ee"
      },
      "execution_count": null,
      "outputs": []
    },
    {
      "cell_type": "code",
      "source": [
        "arr"
      ],
      "metadata": {
        "id": "j5SNF-VTL8bH"
      },
      "execution_count": null,
      "outputs": []
    },
    {
      "cell_type": "code",
      "source": [
        "      [(0) [ 2,  3,  4],\n",
        "            (0) (1) (2)\n",
        "       (1) [ 1,  2,  5],\n",
        "       (2) [ 3,  4,  3]]"
      ],
      "metadata": {
        "id": "lramSBC-MyNE"
      },
      "execution_count": null,
      "outputs": []
    },
    {
      "cell_type": "code",
      "source": [
        "print(arr[1, 2])"
      ],
      "metadata": {
        "id": "_fsXLJs1jPl-"
      },
      "execution_count": null,
      "outputs": []
    },
    {
      "cell_type": "code",
      "source": [
        "arr.ndim"
      ],
      "metadata": {
        "id": "I5k1WCrfNPpi"
      },
      "execution_count": null,
      "outputs": []
    },
    {
      "cell_type": "code",
      "source": [
        "arr = np.array([[[2, 1], [4, 5], [6, 2]],\n",
        "                [[3, 4], [7, 6], [10, 2]]])\n"
      ],
      "metadata": {
        "id": "9s_Rww0IFhqs"
      },
      "execution_count": null,
      "outputs": []
    },
    {
      "cell_type": "code",
      "source": [
        "arr.ndim"
      ],
      "metadata": {
        "id": "nnrFjspfOLRj"
      },
      "execution_count": null,
      "outputs": []
    },
    {
      "cell_type": "code",
      "source": [
        "print(arr[1, 2, 0])"
      ],
      "metadata": {
        "id": "5LOGY2iAFhvE"
      },
      "execution_count": null,
      "outputs": []
    },
    {
      "cell_type": "code",
      "source": [
        "arr = np.array([[2, 3, 4],  #-3\n",
        "                [1, 2, 5],  #-2\n",
        "                [3, 4, 3]]) #-1\n"
      ],
      "metadata": {
        "id": "SSoY5IW8FhyM"
      },
      "execution_count": null,
      "outputs": []
    },
    {
      "cell_type": "code",
      "source": [
        "print(arr[-2, -2])"
      ],
      "metadata": {
        "id": "GNU98w96F6_X"
      },
      "execution_count": null,
      "outputs": []
    },
    {
      "cell_type": "code",
      "source": [],
      "metadata": {
        "id": "s-gPqXUPO033"
      },
      "execution_count": null,
      "outputs": []
    },
    {
      "cell_type": "code",
      "source": [],
      "metadata": {
        "id": "8jDZmvThO1mS"
      },
      "execution_count": null,
      "outputs": []
    },
    {
      "cell_type": "code",
      "source": [
        "arr = np.array([2,3,1,5,6])\n",
        "print(arr[1:4])  # Esto imprimirá [3, 1, 5]\n"
      ],
      "metadata": {
        "id": "3ZAWw2m2F7CT"
      },
      "execution_count": null,
      "outputs": []
    },
    {
      "cell_type": "code",
      "source": [
        "print(arr[:4])  # Resultado: [2, 3, 1, 5]\n",
        "print(arr[1:])  # Resultado: [3, 1, 5, 6]\n",
        "print(arr[:])   # Resultado: [2, 3, 1, 5, 6]\n"
      ],
      "metadata": {
        "id": "xJTY7Gh9MpZK"
      },
      "execution_count": null,
      "outputs": []
    },
    {
      "cell_type": "code",
      "source": [
        "arr = np.array([[2, 3, 4, 3, 6],\n",
        "                [1, 2, 5, 7, 5],\n",
        "                [3, 4, 3, 3, 5],\n",
        "                [5, 6, 3, 2, 1],\n",
        "                [4, 3, 3, 5, 5],\n",
        "                [3, 1, 4, 5, 6]])\n"
      ],
      "metadata": {
        "id": "WGHrXHiyMpb4"
      },
      "execution_count": null,
      "outputs": []
    },
    {
      "cell_type": "code",
      "source": [
        "print(arr[1:3, 1:])"
      ],
      "metadata": {
        "id": "CaLJAjtZMpeO"
      },
      "execution_count": null,
      "outputs": []
    },
    {
      "cell_type": "code",
      "source": [
        "print(arr[1])"
      ],
      "metadata": {
        "id": "roE8CKW6Mpg4"
      },
      "execution_count": null,
      "outputs": []
    },
    {
      "cell_type": "code",
      "source": [
        "arr = np.array([[[2, 1], [4, 5], [6, 2]],\n",
        "                [[3, 4], [7, 6], [10, 2]]])\n"
      ],
      "metadata": {
        "id": "5BYgIzs8OPAG"
      },
      "execution_count": null,
      "outputs": []
    },
    {
      "cell_type": "code",
      "source": [
        "print(arr[:, 1:, :])"
      ],
      "metadata": {
        "id": "BpHhFzCsOPEO"
      },
      "execution_count": null,
      "outputs": []
    },
    {
      "cell_type": "code",
      "source": [
        "arr = np.array([[[2, 1], [4, 5], [6, 2]],\n",
        "                [[3, 4], [7, 6], [10, 2]]])\n"
      ],
      "metadata": {
        "id": "C-ksFD2GOPHl"
      },
      "execution_count": null,
      "outputs": []
    },
    {
      "cell_type": "code",
      "source": [
        "import numpy as np\n",
        "\n",
        "# Creamos un arreglo unidimensional con edades\n",
        "edades = np.array([20, 22, 25, 27, 30])"
      ],
      "metadata": {
        "id": "90dovlDBbHGI"
      },
      "execution_count": null,
      "outputs": []
    },
    {
      "cell_type": "code",
      "source": [
        "edades"
      ],
      "metadata": {
        "id": "gUZKyjjebJ5F"
      },
      "execution_count": null,
      "outputs": []
    },
    {
      "cell_type": "code",
      "source": [
        "# Generamos una máscara booleana para edades mayores a 25\n",
        "mascara = edades > 25"
      ],
      "metadata": {
        "id": "NNaAhncTbLhJ"
      },
      "execution_count": null,
      "outputs": []
    },
    {
      "cell_type": "code",
      "source": [
        "mascara"
      ],
      "metadata": {
        "id": "NkL2dAHybVDC"
      },
      "execution_count": null,
      "outputs": []
    },
    {
      "cell_type": "code",
      "source": [
        "\n",
        "\n",
        "\n",
        "# Aplicamos la máscara para seleccionar solo las edades mayores a 25\n",
        "edades_mayores = edades[mascara]\n",
        "\n",
        "print(edades_mayores)  # Salida: [27 30]\n"
      ],
      "metadata": {
        "id": "LT-XB8lfVuK7"
      },
      "execution_count": null,
      "outputs": []
    },
    {
      "cell_type": "code",
      "source": [],
      "metadata": {
        "id": "hnV78gcVbDYc"
      },
      "execution_count": null,
      "outputs": []
    },
    {
      "cell_type": "code",
      "source": [],
      "metadata": {
        "id": "HArRWYMFbDlL"
      },
      "execution_count": null,
      "outputs": []
    },
    {
      "cell_type": "code",
      "source": [
        "print(arr[:, 1:, 0])"
      ],
      "metadata": {
        "id": "mYUT1jBIUh_u"
      },
      "execution_count": null,
      "outputs": []
    },
    {
      "cell_type": "code",
      "source": [],
      "metadata": {
        "id": "3WHYH3n1pfMn"
      },
      "execution_count": null,
      "outputs": []
    },
    {
      "cell_type": "code",
      "source": [
        "from skimage import io\n",
        "import matplotlib.pyplot as plt\n",
        "import numpy as np\n",
        "# URL de la imagen en formato raw\n",
        "url_imagen = 'https://raw.githubusercontent.com/abxda/python/main/img/taquito_01.jpeg'\n",
        "\n",
        "# Leer la imagen desde la URL\n",
        "taquito = io.imread(url_imagen)\n",
        "\n",
        "# Mostrar la imagen\n",
        "plt.imshow(taquito)"
      ],
      "metadata": {
        "id": "rgN_2y0RphJY"
      },
      "execution_count": null,
      "outputs": []
    },
    {
      "cell_type": "code",
      "source": [
        "type(taquito)"
      ],
      "metadata": {
        "id": "lHAykVPQpoVc"
      },
      "execution_count": null,
      "outputs": []
    },
    {
      "cell_type": "code",
      "source": [
        "taquito.shape"
      ],
      "metadata": {
        "id": "Hp13EJFVqT8J"
      },
      "execution_count": null,
      "outputs": []
    },
    {
      "cell_type": "code",
      "source": [
        "taquito"
      ],
      "metadata": {
        "id": "1BEVvBBIco87"
      },
      "execution_count": null,
      "outputs": []
    },
    {
      "cell_type": "code",
      "source": [
        "taquito.shape"
      ],
      "metadata": {
        "id": "cWPaBgv2dIv_"
      },
      "execution_count": null,
      "outputs": []
    },
    {
      "cell_type": "code",
      "source": [
        "# Supongamos que 'taquito' es un ndarray que representa una imagen con píxeles\n",
        "\n",
        "# Recortar la parte superior izquierda de la imagen\n",
        "top_left_quarter = taquito[:taquito.shape[0]//2, :taquito.shape[1]//2]\n",
        "\n",
        "# Crear una máscara para la mitad inferior de la imagen\n",
        "mask_lower_half = np.zeros_like(taquito, dtype=bool)\n",
        "mask_lower_half[taquito.shape[0]//2:] = True\n",
        "\n",
        "# Oscurecer la mitad inferior de la imagen\n",
        "taquito_darkened_lower = taquito.astype(float)  # Convertir a flotante\n",
        "taquito_darkened_lower[mask_lower_half] *= 0.5  # Oscurecer los píxeles\n",
        "taquito_darkened_lower = taquito_darkened_lower.astype(np.uint8)  # Convertir de vuelta a uint8 si es necesario\n",
        "\n",
        "\n",
        "# Mostrar la imagen original\n",
        "plt.imshow(taquito)\n",
        "plt.title('Original')\n"
      ],
      "metadata": {
        "id": "Zjy4CehwqXbo"
      },
      "execution_count": null,
      "outputs": []
    },
    {
      "cell_type": "code",
      "source": [
        "plt.imshow(top_left_quarter)\n",
        "plt.title('Esquina Superior Izquierda')\n",
        "plt.show()"
      ],
      "metadata": {
        "id": "6Oz0teqYZoTv"
      },
      "execution_count": null,
      "outputs": []
    },
    {
      "cell_type": "code",
      "source": [
        "plt.imshow(taquito_darkened_lower)\n",
        "plt.title('Mitad Inferior Oscurecida')\n",
        "plt.show()\n"
      ],
      "metadata": {
        "id": "DzXnHVYAZtdX"
      },
      "execution_count": null,
      "outputs": []
    },
    {
      "cell_type": "code",
      "source": [
        "# Creemos un efecto espejo\n",
        "taquito_reflejado = taquito[:, ::-1]\n",
        "\n",
        "plt.imshow(taquito_reflejado)\n",
        "plt.axis('off')\n",
        "plt.show()\n"
      ],
      "metadata": {
        "id": "HMEWjGM-2Yy9"
      },
      "execution_count": null,
      "outputs": []
    },
    {
      "cell_type": "code",
      "source": [
        "# Digamos que queremos resaltar solo los colores más brillantes de Taquito\n",
        "luz_alta = taquito > 200  # Un umbral para 'brillo alto'\n",
        "taquito_brillante = taquito * luz_alta\n",
        "plt.imshow(taquito_brillante)\n",
        "plt.show()\n"
      ],
      "metadata": {
        "id": "8A--2O482a47"
      },
      "execution_count": null,
      "outputs": []
    },
    {
      "cell_type": "code",
      "source": [],
      "metadata": {
        "id": "QZac5TxK2gG6"
      },
      "execution_count": null,
      "outputs": []
    },
    {
      "cell_type": "code",
      "source": [],
      "metadata": {
        "id": "NAN9qGT52hoR"
      },
      "execution_count": null,
      "outputs": []
    },
    {
      "cell_type": "code",
      "source": [],
      "metadata": {
        "id": "1bEMXQHM2jPn"
      },
      "execution_count": null,
      "outputs": []
    },
    {
      "cell_type": "code",
      "source": [],
      "metadata": {
        "id": "j_AZVdtR2nmG"
      },
      "execution_count": null,
      "outputs": []
    },
    {
      "cell_type": "code",
      "source": [],
      "metadata": {
        "id": "iJ31TeJI3vzK"
      },
      "execution_count": null,
      "outputs": []
    },
    {
      "cell_type": "code",
      "source": [],
      "metadata": {
        "id": "SS6qxj7p4A_0"
      },
      "execution_count": null,
      "outputs": []
    },
    {
      "cell_type": "code",
      "source": [],
      "metadata": {
        "id": "Ihl3wupS4D_H"
      },
      "execution_count": null,
      "outputs": []
    },
    {
      "cell_type": "code",
      "source": [],
      "metadata": {
        "id": "Ecg5qdCZ4F5O"
      },
      "execution_count": null,
      "outputs": []
    }
  ]
}