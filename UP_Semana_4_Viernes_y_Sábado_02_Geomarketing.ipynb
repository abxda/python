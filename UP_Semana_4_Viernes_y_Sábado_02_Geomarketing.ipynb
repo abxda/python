{
  "nbformat": 4,
  "nbformat_minor": 0,
  "metadata": {
    "colab": {
      "provenance": [],
      "authorship_tag": "ABX9TyO/0XPpe2qQtNdfo403lftd",
      "include_colab_link": true
    },
    "kernelspec": {
      "name": "python3",
      "display_name": "Python 3"
    },
    "language_info": {
      "name": "python"
    }
  },
  "cells": [
    {
      "cell_type": "markdown",
      "metadata": {
        "id": "view-in-github",
        "colab_type": "text"
      },
      "source": [
        "<a href=\"https://colab.research.google.com/github/abxda/python/blob/main/UP_Semana_4_Viernes_y_S%C3%A1bado_02_Geomarketing.ipynb\" target=\"_parent\"><img src=\"https://colab.research.google.com/assets/colab-badge.svg\" alt=\"Open In Colab\"/></a>"
      ]
    },
    {
      "cell_type": "code",
      "source": [
        "!pip install osmnx descartes"
      ],
      "metadata": {
        "id": "M06tvBXdYQQJ"
      },
      "execution_count": null,
      "outputs": []
    },
    {
      "cell_type": "code",
      "source": [
        "!pip install alphashape"
      ],
      "metadata": {
        "id": "eT-ofug3iuAu"
      },
      "execution_count": null,
      "outputs": []
    },
    {
      "cell_type": "code",
      "execution_count": null,
      "metadata": {
        "id": "q_dYv6hCW9Gj"
      },
      "outputs": [],
      "source": [
        "\n",
        "#Cargar Bibliotecas\n",
        "import folium\n",
        "from shapely.geometry import Point, LineString, Polygon\n",
        "import networkx as nx\n",
        "import osmnx as ox\n",
        "import matplotlib.pyplot as plt\n",
        "from descartes import PolygonPatch\n",
        "import geopandas as gpd\n",
        "import pandas as pd\n",
        "from tqdm import tqdm\n",
        "import requests\n",
        "from zipfile import ZipFile\n",
        "import time\n",
        "import os\n",
        "import shutil\n",
        "ox.config(log_console=True, use_cache=True)\n",
        "from IPython.display import IFrame\n",
        "from alphashape import alphashape\n"
      ]
    },
    {
      "cell_type": "code",
      "source": [
        "#Funciones de apoyo\n",
        "def download(url,dir):\n",
        "    time.sleep(5)\n",
        "    chunk_size = 1024\n",
        "    r = requests.get(url, stream = True)\n",
        "    total_size = int(r.headers['content-length'])\n",
        "    filename = url.split('/')[-1]\n",
        "    with open(dir+filename, 'wb') as f:\n",
        "        for data in tqdm(iterable = r.iter_content(chunk_size = chunk_size), total = total_size/chunk_size, unit = 'KB'):\n",
        "            f.write(data)\n",
        "\n",
        "def extract_shapefile(states,directory,shp_dir,shape_type):\n",
        "    for i in range(32):\n",
        "        try:\n",
        "            estado = states[i]\n",
        "            file = str(i+1).zfill(2)\n",
        "            zip_file = directory+estado\n",
        "            shp_file = f'conjunto_de_datos/{file}{shape_type}.shp'\n",
        "            cpg_file = f'conjunto_de_datos/{file}{shape_type}.cpg'\n",
        "            dbf_file = f'conjunto_de_datos/{file}{shape_type}.dbf'\n",
        "            prj_file = f'conjunto_de_datos/{file}{shape_type}.prj'\n",
        "            shx_file = f'conjunto_de_datos/{file}{shape_type}.shx'\n",
        "            with ZipFile(zip_file, 'r') as zip:\n",
        "                zip.extract(shp_file,shp_dir)\n",
        "                zip.extract(dbf_file,shp_dir)\n",
        "                zip.extract(prj_file,shp_dir)\n",
        "                zip.extract(shx_file,shp_dir)\n",
        "                try:\n",
        "                    zip.extract(cpg_file,shp_dir)\n",
        "                except:\n",
        "                    with open(shp_dir+cpg_file, 'w') as out_file:\n",
        "                        out_file.write(\"ISO 88591\")\n",
        "        except:\n",
        "            pass\n",
        "\n",
        "def extract_shapefile_denue(states,directory,shp_dir,shape_type):\n",
        "    for i in range(32):\n",
        "        try:\n",
        "            estado = states[i]\n",
        "            file = str(i+1).zfill(2)\n",
        "            zip_file = directory+f'denue_{file}_shp.zip'\n",
        "            shp_file = f'conjunto_de_datos/denue_inegi_{file}{shape_type}.shp'\n",
        "            cpg_file = f'conjunto_de_datos/denue_inegi_{file}{shape_type}.cpg'\n",
        "            dbf_file = f'conjunto_de_datos/denue_inegi_{file}{shape_type}.dbf'\n",
        "            prj_file = f'conjunto_de_datos/denue_inegi_{file}{shape_type}.prj'\n",
        "            shx_file = f'conjunto_de_datos/denue_inegi_{file}{shape_type}.shx'\n",
        "            with ZipFile(zip_file, 'r') as zip:\n",
        "                zip.extract(shp_file,shp_dir)\n",
        "                zip.extract(dbf_file,shp_dir)\n",
        "                zip.extract(prj_file,shp_dir)\n",
        "                zip.extract(shx_file,shp_dir)\n",
        "                try:\n",
        "                    zip.extract(cpg_file,shp_dir)\n",
        "                except:\n",
        "                    with open(shp_dir+cpg_file, 'w') as out_file:\n",
        "                        out_file.write(\"ISO 88591\")\n",
        "        except:\n",
        "            pass"
      ],
      "metadata": {
        "id": "dgye_rxdYMRn"
      },
      "execution_count": null,
      "outputs": []
    },
    {
      "cell_type": "code",
      "source": [
        "\n",
        "# Estructura de Directorios\n",
        "os.makedirs(\"./inegi/ccpvagebmza/csv/conjunto_de_datos\")\n",
        "os.makedirs(\"./inegi/mgccpv/shp/m/conjunto_de_datos\")\n",
        "os.makedirs(\"./inegi/mgccpv/gpkg/\")\n",
        "os.makedirs(\"./inegi/denue/conjunto_de_datos/\")"
      ],
      "metadata": {
        "id": "BZTDh1mFY3iP"
      },
      "execution_count": null,
      "outputs": []
    },
    {
      "cell_type": "code",
      "source": [
        "estados_geo = [\"01_aguascalientes.zip\",\"02_bajacalifornia.zip\",\"03_bajacaliforniasur.zip\",\"04_campeche.zip\",\"05_coahuiladezaragoza.zip\",\"06_colima.zip\",\"07_chiapas.zip\",\"08_chihuahua.zip\",\"09_ciudaddemexico.zip\",\"10_durango.zip\",\"11_guanajuato.zip\",\"12_guerrero.zip\",\"13_hidalgo.zip\",\"14_jalisco.zip\",\"15_mexico.zip\",\"16_michoacandeocampo.zip\",\"17_morelos.zip\",\"18_nayarit.zip\",\"19_nuevoleon.zip\",\"20_oaxaca.zip\",\"21_puebla.zip\",\"22_queretaro.zip\",\"23_quintanaroo.zip\",\"24_sanluispotosi.zip\",\"25_sinaloa.zip\",\"26_sonora.zip\",\"27_tabasco.zip\",\"28_tamaulipas.zip\",\"29_tlaxcala.zip\",\"30_veracruzignaciodelallave.zip\",\"31_yucatan.zip\",\"32_zacatecas.zip\"]\n",
        "estados_num = [1, 2, 3, 4, 5, 6, 7, 8, 9, 10, 11, 12, 13 ,14 ,15, 16, 17, 18, 19, 20, 21, 22, 23 ,24, 25, 26, 27, 28, 29, 30, 31, 32]\n",
        "estados_denue = [\"01\", \"02\", \"03\", \"04\", \"05\", \"06\", \"07\", \"08\", \"09\", \"10\", \"11\", \"12\", \"13\" ,\"14\" ,\"15_1\",\"15_2\", \"16\", \"17\", \"18\", \"19\", \"20\", \"21\", \"22\", \"23\" ,\"24\", \"25\", \"26\", \"27\", \"28\", \"29\", \"30\", \"31\", \"32\"]"
      ],
      "metadata": {
        "id": "8qhwyNlEY-ZR"
      },
      "execution_count": null,
      "outputs": []
    },
    {
      "cell_type": "code",
      "source": [
        "# Descarga los Datos del Censo\n",
        "directory= \"./inegi/ccpvagebmza/\"\n",
        "estado = \"01\"\n",
        "ageb_mza = f'https://www.inegi.org.mx/contenidos/programas/ccpv/2020/datosabiertos/ageb_manzana/ageb_mza_urbana_{estado}_cpv2020_csv.zip'\n",
        "download(ageb_mza,directory)\n",
        "\n",
        "# Descarga los datos del Margo Geoestadístico\n",
        "directory= \"./inegi/mgccpv/\"\n",
        "url_mgccpv = \"https://www.inegi.org.mx/contenidos/productos/prod_serv/contenidos/espanol/bvinegi/productos/geografia/marcogeo/889463807469/\"\n",
        "state = \"01_aguascalientes.zip\"\n",
        "state_file = url_mgccpv+state\n",
        "download(state_file,directory)\n",
        "\n",
        "# Descarga los datos del DENUE\n",
        "directory= \"./inegi/denue/\"\n",
        "estado = \"01\"\n",
        "url_denue = f'https://www.inegi.org.mx/contenidos/masiva/denue/denue_{estado}_shp.zip'\n",
        "download(url_denue,directory)"
      ],
      "metadata": {
        "id": "O3jeWX5FbE-u"
      },
      "execution_count": null,
      "outputs": []
    },
    {
      "cell_type": "code",
      "source": [
        "# Extracción de Datos\n",
        "states = [\"01_aguascalientes.zip\"]#,\"02_bajacalifornia.zip\",\"03_bajacaliforniasur.zip\",\"04_campeche.zip\",\"05_coahuiladezaragoza.zip\",\"06_colima.zip\",\"07_chiapas.zip\",\"08_chihuahua.zip\",\"09_ciudaddemexico.zip\",\"10_durango.zip\",\"11_guanajuato.zip\",\"12_guerrero.zip\",\"13_hidalgo.zip\",\"14_jalisco.zip\",\"15_mexico.zip\",\"16_michoacandeocampo.zip\",\"17_morelos.zip\",\"18_nayarit.zip\",\"19_nuevoleon.zip\",\"20_oaxaca.zip\",\"21_puebla.zip\",\"22_queretaro.zip\",\"23_quintanaroo.zip\",\"24_sanluispotosi.zip\",\"25_sinaloa.zip\",\"26_sonora.zip\",\"27_tabasco.zip\",\"28_tamaulipas.zip\",\"29_tlaxcala.zip\",\"30_veracruzignaciodelallave.zip\",\"31_yucatan.zip\",\"32_zacatecas.zip\"]\n",
        "# Variables e indicadores del Censo de Población 2020\n",
        "# CSV Files\n",
        "directory= \"./inegi/ccpvagebmza/\"\n",
        "csv_dir = directory+\"csv/conjunto_de_datos/\"\n",
        "estado = \"01\"\n",
        "zip_file = directory+f'ageb_mza_urbana_{estado}_cpv2020_csv.zip'\n",
        "csv_file = f'ageb_mza_urbana_{estado}_cpv2020/conjunto_de_datos/conjunto_de_datos_ageb_urbana_{estado}_cpv2020.csv'\n",
        "with ZipFile(zip_file, 'r') as zip:\n",
        "    zipInfo = zip.getinfo(csv_file)\n",
        "    zipInfo.filename = os.path.basename(csv_file)\n",
        "    zip.extract(zipInfo, csv_dir)\n",
        "\n",
        "# Localidades\n",
        "shape_type = \"l\"\n",
        "directory= \"./inegi/mgccpv/\"\n",
        "shp_dir = directory+\"shp/m/\"\n",
        "extract_shapefile(states,directory,shp_dir,shape_type)\n",
        "\n",
        "# Manzanas\n",
        "shape_type = \"m\"\n",
        "directory= \"./inegi/mgccpv/\"\n",
        "shp_dir = directory+\"shp/m/\"\n",
        "extract_shapefile(states,directory,shp_dir,shape_type)\n",
        "\n",
        "# Caserío disperso\n",
        "shape_type = \"cd\"\n",
        "directory= \"./inegi/mgccpv/\"\n",
        "shp_dir = directory+\"shp/m/\"\n",
        "extract_shapefile(states,directory,shp_dir,shape_type)\n",
        "\n",
        "# Polígono externo de manzana\n",
        "shape_type = \"pem\"\n",
        "directory= \"./inegi/mgccpv/\"\n",
        "shp_dir = directory+\"shp/m/\"\n",
        "extract_shapefile(states,directory,shp_dir,shape_type)\n",
        "\n",
        "# DENUE\n",
        "shape_type = \"_\"\n",
        "directory= \"./inegi/denue/\"\n",
        "shp_dir = directory\n",
        "extract_shapefile_denue(states,directory,shp_dir,shape_type)"
      ],
      "metadata": {
        "id": "a3uLvrdgbQrE"
      },
      "execution_count": null,
      "outputs": []
    },
    {
      "cell_type": "code",
      "source": [
        "#Union de Datos de Aguascalientes\n",
        "estado = '01'\n",
        "print(\"procesando estado: \"+str(estado))\n",
        "locdf = gpd.read_file(f\"./inegi/mgccpv/shp/m/conjunto_de_datos/{estado}l.shp\").to_crs(\"EPSG:4326\")\n",
        "denuedf = gpd.read_file(f\"./inegi/denue/conjunto_de_datos/denue_inegi_{estado}_.shp\").to_crs(\"EPSG:4326\")\n",
        "\n",
        "gpdf = gpd.read_file(f\"./inegi/mgccpv/shp/m/conjunto_de_datos/{estado}m.shp\").to_crs(\"EPSG:4326\")\n",
        "cddf = gpd.read_file(f\"./inegi/mgccpv/shp/m/conjunto_de_datos/{estado}cd.shp\").to_crs(\"EPSG:4326\")\n",
        "pemdf = gpd.read_file(f\"./inegi/mgccpv/shp/m/conjunto_de_datos/{estado}pem.shp\").to_crs(\"EPSG:4326\")\n",
        "df = pd.read_csv(f\"./inegi/ccpvagebmza/csv/conjunto_de_datos/conjunto_de_datos_ageb_urbana_{estado}_cpv2020.csv\",na_values=['N/A','N/D','*'])\n",
        "df['CVEGEO'] = df.apply(lambda row: str(row['ENTIDAD']).zfill(2) + str(row['MUN']).zfill(3)+ str(row['LOC']).zfill(4)+ str(row['AGEB']).zfill(4)+ str(row['MZA']).zfill(3), axis=1)\n",
        "df_geo_censo = pd.merge(df, gpdf, how = 'left').drop([\"CVE_ENT\", \"CVE_MUN\", \"CVE_LOC\", \"CVE_AGEB\", \"CVE_MZA\"], axis = 1)\n",
        "df_geo_censo = df_geo_censo.drop(df[df.MZA == 0].index)\n",
        "df_geo_censo = gpd.GeoDataFrame(df_geo_censo, geometry=\"geometry\")\n",
        "\n",
        "df_full = df_geo_censo[df_geo_censo['geometry'].notnull()]\n",
        "df1 = df_geo_censo[df_geo_censo['geometry'].isnull()]\n",
        "df1 = df1.drop([\"TIPOMZA\",\"AMBITO\",\"geometry\"], axis = 1)\n",
        "df_geo_dif = pd.merge(df1, cddf, how = 'left').drop([\"CVE_ENT\", \"CVE_MUN\", \"CVE_LOC\", \"CVE_AGEB\", \"CVE_MZA\"], axis = 1)\n",
        "pemdf = pemdf.rename(columns={'geometry': 'geometry_pem'})\n",
        "pemdf = pemdf.drop([\"CVE_ENT\", \"CVE_MUN\", \"CVE_LOC\", \"CVE_AGEB\", \"CVE_MZA\"], axis = 1)\n",
        "df_geo_dif = pd.merge(df_geo_dif, pemdf, how = 'left')\n",
        "df_geo_dif['geometry'] = df_geo_dif.apply(lambda row : row['geometry_pem'] if row['geometry_pem'] != None else row['geometry'], axis = 1)\n",
        "df_geo_dif =  df_geo_dif.drop([\"geometry_pem\"], axis = 1)\n",
        "final_shape = pd.concat([df_full,df_geo_dif],ignore_index=True)\n",
        "final_shape[\"AGEB\"] = final_shape.AGEB.apply(str)\n",
        "print(\"guardando datos del estado: \"+str(estado))\n",
        "final_shape.to_file(f\"./inegi/mgccpv/gpkg/cpv2020_{estado}.gpkg\", layer='cpv2020', driver=\"GPKG\")\n",
        "print(\"guardando datos del poligono de localidad del estado: \"+str(estado))\n",
        "locdf.to_file(f\"./inegi/mgccpv/gpkg/cpv2020_{estado}.gpkg\", layer='localidades2020', driver=\"GPKG\")\n",
        "print(\"guardando datos del DENUE del estado: \"+str(estado))\n",
        "denuedf.to_file(f\"./inegi/mgccpv/gpkg/cpv2020_{estado}.gpkg\", layer='denue2020', driver=\"GPKG\")"
      ],
      "metadata": {
        "id": "YMa1YDfbgCDn"
      },
      "execution_count": null,
      "outputs": []
    },
    {
      "cell_type": "code",
      "source": [
        "localidades = gpd.read_file(f\"./inegi/mgccpv/gpkg/cpv2020_{estado}.gpkg\", layer='localidades2020', driver=\"GPKG\")\n",
        "ags = localidades.loc[localidades['CVEGEO'] == '010010001']\n",
        "ags['geometry'].array[0]"
      ],
      "metadata": {
        "id": "Y0lCSiBghM5N"
      },
      "execution_count": null,
      "outputs": []
    },
    {
      "cell_type": "code",
      "source": [
        "# Modo de transporte\n",
        "mode = \"walk\"\n",
        "# Crear el grafo que cubre el polígono segun el modo de transporte\n",
        "G = ox.graph_from_polygon(ags['geometry'].array[0], simplify=True, network_type=mode)\n",
        "# Dibujamos el resultado para tener una idea de lo que se descargó\n",
        "fig, ax = ox.plot_graph(G, save=True);\n",
        "plt.tight_layout()\n",
        "plt.show()"
      ],
      "metadata": {
        "id": "CwnCOo7Flf67"
      },
      "execution_count": null,
      "outputs": []
    },
    {
      "cell_type": "code",
      "source": [
        "denue = gpd.read_file(f\"./inegi/mgccpv/gpkg/cpv2020_{estado}.gpkg\", layer='denue2020', driver=\"GPKG\")\n",
        "#Usamos los códigos de 464111 para Farmacias sin minisúper , 464112 para Farmacias con minisúper\n",
        "farmacias = denue.loc[denue['codigo_act'].isin(['464111','464112'])]\n",
        "farmacias"
      ],
      "metadata": {
        "id": "mA7V2dwAl7It"
      },
      "execution_count": null,
      "outputs": []
    },
    {
      "cell_type": "code",
      "source": [],
      "metadata": {
        "id": "AWUa1SG1qLkn"
      },
      "execution_count": null,
      "outputs": []
    },
    {
      "cell_type": "code",
      "source": [
        "isochrone_polys = []\n",
        "\n",
        "G_UTM = ox.project_graph(G)\n",
        "trip_time = 10\n",
        "travel_speed = 4\n",
        "meters_per_minute = travel_speed * 1000 / 60\n",
        "\n",
        "for u, v, k, data in G.edges(data=True, keys=True):\n",
        "    data['time'] = data['length'] / meters_per_minute\n",
        "\n",
        "for indice in farmacias.index:\n",
        "    point = farmacias['geometry'][indice]\n",
        "    p = point.y, point.x\n",
        "    point_of_interest = point_of_interest = ox.distance.nearest_nodes(G, point.x, point.y,return_dist=False)\n",
        "    subgraph = nx.ego_graph(G_UTM, point_of_interest, radius=trip_time, distance='time')\n",
        "    #node_points = [Point((data['x'], data['y'])) for node, data in subgraph.nodes(data=True)]\n",
        "    node_points = [(data['x'], data['y']) for node, data in subgraph.nodes(data=True)]\n",
        "\n",
        "\n",
        "    alpha_value = 0.008  # Ajusta este valor para controlar la concavidad\n",
        "    bounding_poly = alphashape(node_points, alpha=alpha_value)\n",
        "    #bounding_poly = gpd.GeoSeries(node_points).unary_union.convex_hull\n",
        "    isochrone_polys.append(bounding_poly)\n",
        "gdf = gpd.GeoDataFrame({\"id\": farmacias['id']}, geometry= isochrone_polys)\n",
        "gdf_edges = ox.graph_to_gdfs(G_UTM, nodes=False, fill_edge_geometry=True)\n",
        "gdf.crs = gdf_edges.crs\n",
        "gdf.to_crs(\"EPSG:4326\").to_file(f\"./inegi/mgccpv/gpkg/isocronas_{estado}.gpkg\", layer='isocronas', driver=\"GPKG\")\n"
      ],
      "metadata": {
        "id": "01tIFI0zn-So"
      },
      "execution_count": null,
      "outputs": []
    },
    {
      "cell_type": "code",
      "source": [],
      "metadata": {
        "id": "stl9HJz-lFrQ"
      },
      "execution_count": null,
      "outputs": []
    },
    {
      "cell_type": "code",
      "source": [
        "alpha_value = 0.008  # Ajusta este valor para controlar la concavidad\n",
        "bounding_poly = alphashape(node_points, alpha=alpha_value)\n",
        "bounding_poly"
      ],
      "metadata": {
        "id": "G7DF_MPAlYAX"
      },
      "execution_count": null,
      "outputs": []
    },
    {
      "cell_type": "code",
      "source": [
        "alpha_value = 0.0008  # Ajusta este valor para controlar la concavidad\n",
        "bounding_poly = alphashape(node_points, alpha=alpha_value)\n",
        "bounding_poly"
      ],
      "metadata": {
        "id": "jie2QzXMsWCh"
      },
      "execution_count": null,
      "outputs": []
    },
    {
      "cell_type": "code",
      "source": [
        "manzanas = gpd.read_file(f\"./inegi/mgccpv/gpkg/cpv2020_{estado}.gpkg\", layer='cpv2020', driver=\"GPKG\")\n",
        "manzanas.crs = \"EPSG:4326\"\n",
        "manzanas_ags = manzanas.loc[manzanas['NOM_LOC'].isin(['Aguascalientes'])]\n",
        "isocronas = gpd.read_file(f\"./inegi/mgccpv/gpkg/isocronas_{estado}.gpkg\", layer='isocronas', driver=\"GPKG\")\n",
        "isocronas[\"Negocio\"] = \"Farmacia\"\n",
        "dfsjoin = gpd.sjoin(isocronas, manzanas_ags, how=\"left\", predicate='contains')\n",
        "dfpivot = pd.pivot_table(dfsjoin,index='CVEGEO',columns='Negocio',aggfunc={'Negocio':len})\n",
        "dfpivot.columns = dfpivot.columns.droplevel()\n",
        "manzanas_ags_iso = manzanas_ags.merge(dfpivot, how='left', on='CVEGEO')\n",
        "manzanas_ags_iso.fillna(value=0, inplace=True)\n",
        "manzanas_ags_iso.to_file(f\"./inegi/mgccpv/gpkg/manzanas_iso_{estado}.gpkg\", layer='mza_iso', driver=\"GPKG\")"
      ],
      "metadata": {
        "id": "NAoec8-xoquV"
      },
      "execution_count": null,
      "outputs": []
    },
    {
      "cell_type": "code",
      "source": [],
      "metadata": {
        "id": "VcP44OwswQWe"
      },
      "execution_count": null,
      "outputs": []
    },
    {
      "cell_type": "code",
      "source": [],
      "metadata": {
        "id": "yfWcPc8gvlSv"
      },
      "execution_count": null,
      "outputs": []
    }
  ]
}