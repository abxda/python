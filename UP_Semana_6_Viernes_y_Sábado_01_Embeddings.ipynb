{
  "nbformat": 4,
  "nbformat_minor": 0,
  "metadata": {
    "colab": {
      "provenance": [],
      "authorship_tag": "ABX9TyMxwLc5Qn3ZKyGgI6khVHyx",
      "include_colab_link": true
    },
    "kernelspec": {
      "name": "python3",
      "display_name": "Python 3"
    },
    "language_info": {
      "name": "python"
    }
  },
  "cells": [
    {
      "cell_type": "markdown",
      "metadata": {
        "id": "view-in-github",
        "colab_type": "text"
      },
      "source": [
        "<a href=\"https://colab.research.google.com/github/abxda/python/blob/main/UP_Semana_6_Viernes_y_S%C3%A1bado_01_Embeddings.ipynb\" target=\"_parent\"><img src=\"https://colab.research.google.com/assets/colab-badge.svg\" alt=\"Open In Colab\"/></a>"
      ]
    },
    {
      "cell_type": "code",
      "execution_count": null,
      "metadata": {
        "id": "aTqBOrwT_VAy"
      },
      "outputs": [],
      "source": [
        "!pip install transformers\n",
        "!pip install flagembedding"
      ]
    },
    {
      "cell_type": "code",
      "source": [
        "from FlagEmbedding import BGEM3FlagModel\n",
        "import torch\n",
        "import numpy as np\n",
        "import matplotlib.pyplot as plt\n",
        "import pandas as pd\n",
        "from sklearn.manifold import TSNE\n",
        "import seaborn as sns"
      ],
      "metadata": {
        "id": "wWk4t4x4_cBy"
      },
      "execution_count": 2,
      "outputs": []
    },
    {
      "cell_type": "code",
      "source": [
        "# Cargar el modelo BGE-M3\n",
        "model = BGEM3FlagModel('BAAI/bge-m3', use_fp16=False)\n"
      ],
      "metadata": {
        "id": "LrwWXRB6jRAu"
      },
      "execution_count": null,
      "outputs": []
    },
    {
      "cell_type": "code",
      "source": [
        "\n",
        "# Función para convertir texto a embeddings usando BGE-M3\n",
        "def bge_m3_embed(text, model):\n",
        "    embeddings = model.encode([text])['dense_vecs'][0]\n",
        "    return embeddings\n",
        "\n",
        "# Textos de ejemplo de 3 temas diferentes\n",
        "texts = [\n",
        "    \"El clima está soleado hoy.\",\n",
        "    \"La economía global está en recesión.\",\n",
        "    \"La inteligencia artificial está revolucionando el mundo.\",\n",
        "    \"Mañana lloverá en la ciudad.\",\n",
        "    \"Los mercados financieros están inestables.\",\n",
        "    \"Los robots están ayudando en las tareas domésticas.\",\n",
        "    \"Habrá una tormenta el próximo fin de semana.\",\n",
        "    \"Las acciones han caído un 20% esta semana.\",\n",
        "    \"El aprendizaje automático está mejorando la medicina.\",\n",
        "    \"La temperatura es muy baja hoy.\",\n",
        "    \"El desempleo ha aumentado debido a la crisis económica.\",\n",
        "    \"La visión por computadora está avanzando rápidamente.\"\n",
        "]\n",
        "\n",
        "# Convertir textos a embeddings\n",
        "embeddings = [bge_m3_embed(text, model) for text in texts]\n",
        "\n",
        "# Convertir la lista de embeddings a una matriz y normalizar\n",
        "X = np.array(embeddings)\n",
        "X_normalized = X  # Aquí simplemente usamos X directamente\n"
      ],
      "metadata": {
        "id": "JErHBZGX_h4t"
      },
      "execution_count": null,
      "outputs": []
    },
    {
      "cell_type": "code",
      "source": [
        "# Reducir la dimensionalidad con t-SNE\n",
        "tsne = TSNE(n_components=2, random_state=42, perplexity=5)\n",
        "X_2d = tsne.fit_transform(X_normalized)\n",
        "\n",
        "# Crear un DataFrame con los resultados de t-SNE y los títulos\n",
        "df_tsne = pd.DataFrame(X_2d, columns=['x', 'y'])\n",
        "df_tsne['titulo'] = texts\n",
        "\n",
        "# Configurar el tamaño de la figura\n",
        "plt.figure(figsize=(18, 12))\n",
        "\n",
        "# Crear el scatter plot con transparencia en los puntos\n",
        "sns.scatterplot(data=df_tsne, x='x', y='y', hue='titulo', palette='viridis', legend=False, alpha=0.7)\n",
        "\n",
        "# Agregar anotaciones con los títulos, ajustar el tamaño y color del texto\n",
        "for i in range(df_tsne.shape[0]):\n",
        "    plt.text(df_tsne.loc[i, 'x'], df_tsne.loc[i, 'y'], df_tsne.loc[i, 'titulo'], fontsize=10, color='black', alpha=0.7, bbox=dict(facecolor='white', alpha=0.5, edgecolor='none'))\n",
        "\n",
        "plt.title('t-SNE de Embeddings de Noticias')\n",
        "plt.xlabel('Componente 1')\n",
        "plt.ylabel('Componente 2')\n",
        "plt.grid(True)\n",
        "plt.show()"
      ],
      "metadata": {
        "id": "q2_FcBJj_ym5"
      },
      "execution_count": null,
      "outputs": []
    },
    {
      "cell_type": "code",
      "source": [],
      "metadata": {
        "id": "t2CzS1JQAJtE"
      },
      "execution_count": null,
      "outputs": []
    }
  ]
}