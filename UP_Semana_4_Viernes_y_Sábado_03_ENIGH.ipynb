{
  "nbformat": 4,
  "nbformat_minor": 0,
  "metadata": {
    "colab": {
      "provenance": [],
      "authorship_tag": "ABX9TyPll1Zt1pDPRSp4UDeoHNSz",
      "include_colab_link": true
    },
    "kernelspec": {
      "name": "python3",
      "display_name": "Python 3"
    },
    "language_info": {
      "name": "python"
    }
  },
  "cells": [
    {
      "cell_type": "markdown",
      "metadata": {
        "id": "view-in-github",
        "colab_type": "text"
      },
      "source": [
        "<a href=\"https://colab.research.google.com/github/abxda/python/blob/main/UP_Semana_4_Viernes_y_S%C3%A1bado_03_ENIGH.ipynb\" target=\"_parent\"><img src=\"https://colab.research.google.com/assets/colab-badge.svg\" alt=\"Open In Colab\"/></a>"
      ]
    },
    {
      "cell_type": "code",
      "execution_count": null,
      "metadata": {
        "id": "beiyJHOKOONx"
      },
      "outputs": [],
      "source": [
        "import pandas as pd\n",
        "from tqdm import tqdm\n",
        "import requests\n",
        "from zipfile import ZipFile\n",
        "import time\n",
        "import os\n",
        "import shutil\n",
        "import numpy as np"
      ]
    },
    {
      "cell_type": "code",
      "source": [],
      "metadata": {
        "id": "4wzYcICqOoNT"
      },
      "execution_count": null,
      "outputs": []
    },
    {
      "cell_type": "code",
      "source": [],
      "metadata": {
        "id": "f7cumawmOoPy"
      },
      "execution_count": null,
      "outputs": []
    },
    {
      "cell_type": "code",
      "source": [
        "#Funciones de apoyo\n",
        "def download(url,dir):\n",
        "    time.sleep(5)\n",
        "    chunk_size = 1024\n",
        "    r = requests.get(url, stream = True)\n",
        "    total_size = int(r.headers['content-length'])\n",
        "    filename = url.split('/')[-1]\n",
        "    with open(dir+filename, 'wb') as f:\n",
        "        for data in tqdm(iterable = r.iter_content(chunk_size = chunk_size), total = total_size/chunk_size, unit = 'KB'):\n",
        "            f.write(data)"
      ],
      "metadata": {
        "id": "khsEQOxkOoR6"
      },
      "execution_count": null,
      "outputs": []
    },
    {
      "cell_type": "code",
      "source": [
        "os.makedirs(\"./inegi/enigh\", exist_ok=True)"
      ],
      "metadata": {
        "id": "eQguLjErO0Fi"
      },
      "execution_count": null,
      "outputs": []
    },
    {
      "cell_type": "code",
      "source": [
        "# Descarga los Datos de de ENIGH\n",
        "directory= \"./inegi/enigh/\"\n",
        "datos = \"https://www.inegi.org.mx/contenidos/programas/enigh/nc/2022/datosabiertos/conjunto_de_datos_enigh_ns_2022_csv.zip\"\n",
        "download(datos,directory)"
      ],
      "metadata": {
        "id": "Iy3CwERfO3V3"
      },
      "execution_count": null,
      "outputs": []
    },
    {
      "cell_type": "code",
      "source": [
        "datos_zip = \"./inegi/enigh/conjunto_de_datos_enigh_ns_2022_csv.zip\"\n",
        "\n",
        "with ZipFile(datos_zip, 'r') as zip:\n",
        "    zip.extractall(directory)"
      ],
      "metadata": {
        "id": "T5lkXAXCPFuf"
      },
      "execution_count": null,
      "outputs": []
    },
    {
      "cell_type": "code",
      "source": [
        "concentradohogar = pd.read_csv(\"./inegi/enigh/conjunto_de_datos_concentradohogar_enigh2022_ns/conjunto_de_datos/conjunto_de_datos_concentradohogar_enigh2022_ns.csv\", low_memory=False)\n",
        "gastoshogar = pd.read_csv(\"./inegi/enigh/conjunto_de_datos_gastoshogar_enigh2022_ns/conjunto_de_datos/conjunto_de_datos_gastoshogar_enigh2022_ns.csv\")\n",
        "geo_entidad = pd.read_csv(\"./inegi/enigh/conjunto_de_datos_concentradohogar_enigh2022_ns/catalogos/ubica_geo.csv\", encoding='iso-8859-1')[[\"entidad\",\"desc_ent\"]].drop_duplicates()"
      ],
      "metadata": {
        "id": "A_X6wngVRm3U"
      },
      "execution_count": null,
      "outputs": []
    },
    {
      "cell_type": "code",
      "source": [
        "gastoshogar"
      ],
      "metadata": {
        "id": "2fVNflzAUvbM"
      },
      "execution_count": null,
      "outputs": []
    },
    {
      "cell_type": "code",
      "source": [
        "concentradohogar"
      ],
      "metadata": {
        "id": "zpEE8xkDV9Jb"
      },
      "execution_count": null,
      "outputs": []
    },
    {
      "cell_type": "code",
      "source": [
        "geo_entidad"
      ],
      "metadata": {
        "id": "zDxuSv5JV-gc"
      },
      "execution_count": null,
      "outputs": []
    },
    {
      "cell_type": "code",
      "source": [
        "catalogo_gastos = pd.read_csv(\"./inegi/enigh/conjunto_de_datos_gastospersona_enigh2022_ns/catalogos/gastos.csv\",encoding='iso-8859-1')"
      ],
      "metadata": {
        "id": "TOqrD4-1V_87"
      },
      "execution_count": null,
      "outputs": []
    },
    {
      "cell_type": "code",
      "source": [
        "catalogo_gastos"
      ],
      "metadata": {
        "id": "gj9efNJUXNnU"
      },
      "execution_count": null,
      "outputs": []
    },
    {
      "cell_type": "code",
      "source": [
        "gastoshogar[\"gasto_tri\"] = pd.to_numeric(gastoshogar[\"gasto_tri\"], downcast=\"float\", errors='coerce')\n",
        "aceite_cocina = gastoshogar.query(\"clave=='A095' or clave=='A096'\")"
      ],
      "metadata": {
        "id": "UQPVnXfDXO5T"
      },
      "execution_count": null,
      "outputs": []
    },
    {
      "cell_type": "code",
      "source": [
        "aceite_cocina"
      ],
      "metadata": {
        "id": "8T_UUQBNYeop"
      },
      "execution_count": null,
      "outputs": []
    },
    {
      "cell_type": "code",
      "source": [
        "aceite_agregado_hogar = aceite_cocina.groupby(['folioviv','foliohog']).agg({'gasto_tri':['sum']})"
      ],
      "metadata": {
        "id": "huhismJyYgnq"
      },
      "execution_count": null,
      "outputs": []
    },
    {
      "cell_type": "code",
      "source": [
        "aceite_agregado_hogar.columns = aceite_agregado_hogar.columns.droplevel()\n",
        "aceite_agregado_hogar = aceite_agregado_hogar.reset_index()\n",
        "suma_gasto_aceite = aceite_agregado_hogar[['sum']].values\n",
        "aceite_agregado_hogar = aceite_agregado_hogar[['folioviv','foliohog']]\n",
        "aceite_agregado_hogar['suma_gasto_aceite'] = suma_gasto_aceite"
      ],
      "metadata": {
        "id": "ZIFf5IpQZ3Bw"
      },
      "execution_count": null,
      "outputs": []
    },
    {
      "cell_type": "code",
      "source": [
        "aceite_agregado_hogar"
      ],
      "metadata": {
        "id": "QMUDb43Ca0I9"
      },
      "execution_count": null,
      "outputs": []
    },
    {
      "cell_type": "code",
      "source": [
        "concentradohogar = concentradohogar.merge(aceite_agregado_hogar, how='left', left_on=['folioviv','foliohog'], right_on = ['folioviv','foliohog'])\n"
      ],
      "metadata": {
        "id": "Pc-hbIIZbAkn"
      },
      "execution_count": null,
      "outputs": []
    },
    {
      "cell_type": "code",
      "source": [
        "concentradohogar"
      ],
      "metadata": {
        "id": "5byZkKJAbG0_"
      },
      "execution_count": null,
      "outputs": []
    },
    {
      "cell_type": "code",
      "source": [
        "concentradohogar['deciles'] = pd.qcut(concentradohogar['ing_cor'],q = 10, labels = False)"
      ],
      "metadata": {
        "id": "5OG3NAH3dCQg"
      },
      "execution_count": null,
      "outputs": []
    },
    {
      "cell_type": "code",
      "source": [
        "concentradohogar['ubica_geo'] = concentradohogar['ubica_geo']*0.001\n",
        "concentradohogar['ubica_geo'] = concentradohogar['ubica_geo'].astype(int)\n",
        "concentradohogar_deciles_geo = concentradohogar.merge(geo_entidad, how='left', left_on=['ubica_geo'], right_on = ['entidad'])"
      ],
      "metadata": {
        "id": "RALy_ruFd-Wf"
      },
      "execution_count": null,
      "outputs": []
    },
    {
      "cell_type": "code",
      "source": [
        "concentradohogar_deciles_geo"
      ],
      "metadata": {
        "id": "wIrXRZ2BeNr_"
      },
      "execution_count": null,
      "outputs": []
    },
    {
      "cell_type": "code",
      "source": [
        "np.sum(concentradohogar_deciles_geo.query('suma_gasto_aceite > 0')[[\"factor\"]].values)"
      ],
      "metadata": {
        "id": "bhbwOI_meUOP"
      },
      "execution_count": null,
      "outputs": []
    },
    {
      "cell_type": "code",
      "source": [
        "np.sum(concentradohogar_deciles_geo[[\"factor\"]].values)"
      ],
      "metadata": {
        "id": "_SHQYNFSeXqt"
      },
      "execution_count": null,
      "outputs": []
    },
    {
      "cell_type": "code",
      "source": [
        "np.mean(concentradohogar_deciles_geo.query('suma_gasto_aceite > 0')[[\"suma_gasto_aceite\"]].values)"
      ],
      "metadata": {
        "id": "fSW3zFekfPo3"
      },
      "execution_count": null,
      "outputs": []
    },
    {
      "cell_type": "code",
      "source": [
        "gasto_promedio_estatal = concentradohogar_deciles_geo.query('suma_gasto_aceite > 0').groupby(['desc_ent']).agg({'suma_gasto_aceite':['mean']})\n",
        "gasto_promedio_estatal = gasto_promedio_estatal.reset_index()\n",
        "media_estatal = gasto_promedio_estatal[['suma_gasto_aceite']].values\n",
        "gasto_promedio_estatal = gasto_promedio_estatal[['desc_ent']]\n",
        "gasto_promedio_estatal['media_estatal'] = media_estatal\n",
        "gasto_promedio_estatal.sort_values(\"media_estatal\", ascending=False)"
      ],
      "metadata": {
        "id": "FQ6sMKh0fxM_"
      },
      "execution_count": null,
      "outputs": []
    },
    {
      "cell_type": "code",
      "source": [
        "np.mean(concentradohogar_deciles_geo.query('suma_gasto_aceite > 0')[[\"ing_cor\"]].values)"
      ],
      "metadata": {
        "id": "klfWPbrsgOvM"
      },
      "execution_count": null,
      "outputs": []
    },
    {
      "cell_type": "code",
      "source": [
        "56525/3"
      ],
      "metadata": {
        "id": "wR-pWi4lhM9R"
      },
      "execution_count": null,
      "outputs": []
    },
    {
      "cell_type": "code",
      "source": [
        "ingreso_promedio_estatal = concentradohogar_deciles_geo.query('suma_gasto_aceite > 0').groupby(['desc_ent']).agg({'ing_cor':['mean']})\n",
        "ingreso_promedio_estatal = ingreso_promedio_estatal.reset_index()\n",
        "ing_media_estatal = ingreso_promedio_estatal[['ing_cor']].values\n",
        "ingreso_promedio_estatal = ingreso_promedio_estatal[['desc_ent']]\n",
        "ingreso_promedio_estatal['media_estatal'] = ing_media_estatal\n",
        "ingreso_promedio_estatal.sort_values(\"media_estatal\", ascending=False)"
      ],
      "metadata": {
        "id": "6owAG8VvhQOp"
      },
      "execution_count": null,
      "outputs": []
    },
    {
      "cell_type": "code",
      "source": [
        "gasto_promedio_educacion = concentradohogar_deciles_geo.query('suma_gasto_aceite > 0').groupby(['educa_jefe']).agg({'suma_gasto_aceite':['mean'], 'factor':['sum']})\n",
        "gasto_promedio_educacion = gasto_promedio_educacion.reset_index()\n",
        "media_gasto_educacion = gasto_promedio_educacion[['suma_gasto_aceite']]\n",
        "hogares  = gasto_promedio_educacion[['factor']]\n",
        "gasto_promedio_educacion = gasto_promedio_educacion[['educa_jefe']]\n",
        "gasto_promedio_educacion['media_gasto_educacion'] = media_gasto_educacion\n",
        "gasto_promedio_educacion['total_hogares'] = hogares\n",
        "gasto_promedio_educacion"
      ],
      "metadata": {
        "id": "iMjXX-AAiC0q"
      },
      "execution_count": null,
      "outputs": []
    },
    {
      "cell_type": "code",
      "source": [],
      "metadata": {
        "id": "8M6OE4cJieSa"
      },
      "execution_count": null,
      "outputs": []
    }
  ]
}